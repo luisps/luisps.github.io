{
 "cells": [
  {
   "attachments": {},
   "cell_type": "markdown",
   "metadata": {},
   "source": [
    "##### Quantum Data Science 2023/2024\n",
    "\n",
    "# Lecture 10 - Quantum Approximate Optimization Algorithm (QAOA)\n",
    "*Machine Learning with quantum computers -  Section 3.6.5.2*"
   ]
  },
  {
   "attachments": {},
   "cell_type": "markdown",
   "metadata": {},
   "source": [
    "<!-- no toc -->\n",
    "### Contents \n",
    "\n",
    "1. [Variational Quantum Algorithms](#VQAs)\n",
    "2. [QAOA for combinatorial optimization problems](#quadratic_programs)\n",
    "3. [The QAOA circuit](#qaoa_circuit)\n",
    "4. [From Adiabatic Optimization to QAOA](#intro)\n",
    "5. [Caveats](#caveats)\n",
    "6. [The MaxCut problem](#maxcut)\n",
    "7. [QAOA implementation](#qaoa_maxcut)\n",
    "8. [QAOA from qiskit_algorithms](#qiskit_algorithms)\n",
    "9. [References](#references)"
   ]
  },
  {
   "attachments": {},
   "cell_type": "markdown",
   "metadata": {},
   "source": [
    "## 1. Variational Quantum Algorithms \n",
    "<a id=\"VQAs\"></a>"
   ]
  },
  {
   "attachments": {},
   "cell_type": "markdown",
   "metadata": {},
   "source": [
    "\n",
    "<p align=\"center\">\n",
    " <img width=\"1000\" height=\"550\" src=\"images/VQA_loop.png\">\n",
    "</p>\n",
    "\n",
    "\n",
    "In variational quantum algorithms we use a variational quantum circuit , that is, a quantum circuit with parameterized rotations, that will be iteratively learned to minimize/maximize a given objetive function. The objetive function is thus a classical post-processing function of the expectation value of a given observable for the problem at hand.\n",
    "\n",
    "The QAOA algorithm is a variational quantum algorithm with a *problem-dependent ansatz*. That is, in these cases we know how to encode the problem that we want to solve into a Hamiltonian that is further translated into the ansatz. However, not all problems can be fit into QAOA.\n",
    "\n",
    "QAOA is a special case of the VQE algorithm , but it is tipically used to solve Quadratic problems since it is known how to map them into Hamiltonians. "
   ]
  },
  {
   "attachments": {},
   "cell_type": "markdown",
   "metadata": {},
   "source": [
    "## 2. QAOA for combinatorial optimization problems\n",
    "<a id=\"quadratic_programs\"></a>"
   ]
  },
  {
   "cell_type": "markdown",
   "metadata": {},
   "source": [
    "The quadratic programming problem with $n$ variables and $m$ constraints can be formulated as follows. Given:\n",
    "- a real-valued, $n$-dimensional vector $\\mathbf{c}$,\n",
    "- an $n \\times n$-dimensional real symmetric matrix $Q$,\n",
    "- an $m \\times n$-dimensional real matrix $A$, and\n",
    "- an $m$-dimensional real vector $\\mathbf{b}$,\n",
    "the objective of quadratic programming is to find an $n$-dimensional vector $\\mathbf{x}$, that will\n",
    "$$\n",
    "\\begin{array}{ll}\n",
    "\\text { minimize } & \\mathbf{x}^{\\mathrm{T}} Q \\mathbf{x}+\\mathbf{c}^{\\mathrm{T}} \\mathbf{x} \\\\\n",
    "\\text { subject to } & A \\mathbf{x} \\preceq \\mathbf{b},\\  x^T Q x + c^T x \\leq r\n",
    "\\end{array}\n",
    "$$\n",
    "where $\\mathbf{x}^{\\mathrm{T}}$ denotes the vector transpose of $\\mathbf{x}$, and the notation $A \\mathbf{x} \\leq \\mathbf{b}$ means that every entry of the vector $A \\mathbf{x}$ is less than or equal to the corresponding entry of the vector $\\mathbf{b}$ (component-wise inequality).\n",
    "\n",
    "QUBO's (Quadratic Unconstrained Binary Optimization problems) are the ones to be solved by the QAOA. In this case, we don't have constraints and a binary string $x \\in \\{0,1\\}^n$ encodes the solution of the problem. \n",
    "\n",
    "\\begin{equation}\n",
    "f_Q(x)=x^{\\top} Q x c^T x = \\sum_{i=1}^n \\sum_{j=i}^n Q_{i j} x_i x_j + \\sum_{i=1}^n c_i x_i\n",
    "\\end{equation}\n",
    "\n",
    "\n",
    "The goal will be to encode the problem of interest represented as a QUBO into a Hamiltonian.\n",
    "\n",
    "\n",
    "THE GROUND STATE OF THE PROBLEM HAMILTONIAN WILL BE THE SOLUTION OF THE PROBLEM WE WANT TO SOLVE. QAOA WILL BE USED TO FIND THE GROUND STATE."
   ]
  },
  {
   "attachments": {},
   "cell_type": "markdown",
   "metadata": {},
   "source": [
    "## 3. The QAOA circuit <a id=\"qaoa_circuit\"></a>\n",
    "\n",
    "In the QAOA literature the two blocks are known as:\n",
    "  - $H_p$ - Problem Hamiltonian \n",
    "  - $H_0$ - Mixer Hamiltonian\n",
    "  \n",
    "<p align=\"center\">\n",
    "  <img width=\"800\" height=\"300\" src=\"images/qaoa.png\">\n",
    "</p>\n",
    "\n",
    "Suppose the state prepared by the QAOA circuit $|\\psi(\\alpha,\\beta)\\rangle$. Now we can variationally optimize the parameters $(\\alpha,\\beta)$ to obtain the ground state of the problem hamiltonian. Remember that the ground state encodes the solution of our problem of interest! \n",
    "\n",
    "Usually, since we start from the uniform superposition, $H_p$ is usually composed by rotations in $Z$. Thus what that we need to do in order to find the ground state, is to minimize the expectation value of the problem Hamiltonian $H_p$.\n",
    "\n",
    "$$ (\\alpha^*,\\beta^*) \\leftarrow \\argmin_{\\alpha,\\beta} \\langle \\psi(\\alpha,\\beta)|H_p|\\psi(\\alpha,\\beta)\\rangle$$\n",
    "\n",
    "At the end of the optimization procedure, the basis state with highest probability, correspond to the solution to our problem! "
   ]
  },
  {
   "attachments": {},
   "cell_type": "markdown",
   "metadata": {},
   "source": [
    "\n",
    "## 4. From Adiabatic Optimization to QAOA\n",
    "<a id=\"intro\"></a>"
   ]
  },
  {
   "attachments": {},
   "cell_type": "markdown",
   "metadata": {},
   "source": [
    "### Quantum Adiabatic Optimization \n",
    "\n",
    "Suppose we have a Hamiltonian $H_p$ whose ground state encodes the solution of a given problem of interest. If we prepare a quantum system in the ground state of a given hamiltonian $H_0$ that **does not** commute with $H_p$, then the *adiabatic theorem* of quantum mechanics says that if we evolve the quantum system with the Hamiltonian \n",
    "\n",
    "$$ H(t) = (1 - \\frac{t}{T}) H_0 + \\frac{t}{T} H_p$$ \n",
    "\n",
    "For time $T$ *slowly* enough, then the system will converge to the ground state of the problem Hamiltonian, and we will be able to measure the solution to our problem. \n",
    "Recall that the time evolution of a quantum system is given by solving the schrodinger equation: \n",
    "\n",
    "\\begin{align*}\n",
    " i \\hbar \\frac{d}{dt}|\\psi(t) \\rangle &= H|\\psi(t)\\rangle \\\\ \n",
    " |\\psi(t) \\rangle &= e^{\\frac{-iHt}{\\hbar}} |\\psi(0)\\rangle\n",
    "\\end{align*}\n",
    "\n",
    "Remember this ! It will be important!\n",
    "\n",
    "Now, there are two questions: \n",
    " * How do we embed a problem of interest into a Hamiltonian? Moreover, what types of problems can we solve ? \n",
    " * What is the initial Hamiltonian $H_0$ ? \n",
    "\n",
    "There are numerous ways of constructing problem hamiltonians, depending on the class of problems we are working. Essentially, any problem that can be mapped to a *satisfiability* problem can be \"tried\" to be solved using adiabatic evolution! *Quadratic Unconstrained Binary Optimization (QUBO)* is the most used class of problems since they can be mapped to the well-known *Ising model*, which is well established in terms of the correspondent hamiltonian, having at most two-qubit interactions. Check reference **[1]** to learn more about translating problems into Ising models. \n",
    "\n",
    "$H_0$ is regarded as a simple initial hamiltonian that we can prepare, and we know its ground state.\n",
    "\n",
    "### How can we translate adiabatic optimization to the circuit model of quantum computing?\n",
    "\n",
    "Notice that the quantum evolution is given by a unitary $U = e^{\\frac{-iHt}{\\hbar}}$. Now, the Hamiltonian is composed of two terms, $H_0$ and $H_p$ composed of matrices (Pauli matrices). Let us ignore time and plank's constant for now. We can separate the exponential of a sum of matrices by the product of the terms individually: \n",
    "\n",
    "$$e^H = e^{H_0 + H_p} = e^{H_0} e^{H_p}$$\n",
    "\n",
    "However, this is true **only** when $H_0$ and $H_p$ commute. Nonetheless, we can approximate it using the **Trotter-suzuki** formula: \n",
    "\n",
    "$$ e^H = e^{H_0 + H_p} \\approx (e^{\\frac{H_0}{p}} e^{\\frac{H_p}{p}})^p$$\n",
    "\n",
    "The approximation converges in the limit of $\\infty$ $p$. \n",
    "\n",
    "##### Still keep in mind that perhaps we do not need $\\infty$ $p$ to have a fairly good approximation for our purposes!!!\n",
    "\n",
    "Now, the exponential of Pauli matrices forms rotation matrices. \n",
    "\n",
    "<p align=\"center\">\n",
    " <img width=\"800\" height=\"350\" src=\"images/matrix_exp.png\">\n",
    "</p>\n",
    "\n",
    "\n",
    "For the case of two qubit interactions, the matrix exponential of a tensor product of Pauli matrices reduces to the direct sum of rotation gates:\n",
    "\n",
    "\\begin{equation}\n",
    "\\begin{aligned}\n",
    "& e^{-i \\frac{\\theta}{2} \\sigma_z \\otimes \\sigma_z}=e^{-i \\frac{\\theta}{2} \\sigma_z} \\oplus e^{i \\frac{\\theta}{2} \\sigma_z} \\\\\n",
    "& =R_z(\\theta) \\oplus R_z(-\\theta) \\\\\n",
    "& =\\left(\\begin{array}{cc}\n",
    "R_z(\\theta) & 0 \\\\\n",
    "0 & R_z(-\\theta)\n",
    "\\end{array}\\right) \\\\\n",
    "& =\\left(\\begin{array}{ccc}\n",
    "e^{-i \\frac{\\theta}{2}} & 0 & 0 & 0 \\\\\n",
    "0 & e^{i \\frac{\\theta}{2}} & 0 & 0\\\\\n",
    "0 & 0 & e^{i \\frac{\\theta}{2}} & 0\\\\\n",
    "0 & 0 & 0 & e^{-i \\frac{\\theta}{2}}\n",
    "\\end{array}\\right) \\\\\n",
    "&\n",
    "\\end{aligned}\n",
    "\\end{equation}\n",
    "\n",
    "Thus, we just need to repeat these unitaries $p$ times in our quantum circuit. \n",
    "\n",
    "<p align=\"center\">\n",
    " <img width=\"500\" height=\"200\" src=\"images/trotter.png\">\n",
    "</p>\n",
    "\n",
    "The difficulty lies in designing the time $t$ in the circuit model. For that reason, we will consider parameters $\\alpha$ and $\\beta$ that will be variationally optimized to converge to the ground state of our problem hamiltonian. \n",
    "\n",
    "<p align=\"center\">\n",
    " <img width=\"500\" height=\"200\" src=\"images/alphas_betas.png\">\n",
    "</p>\n",
    "\n",
    "### At this point, we almost have the QAOA circuit. The initial Hamiltonian $H_0$, is the only thing that it is missing.\n",
    "\n",
    "$H_0$ is usually regarded as a series of Pauli $\\sigma_x$ gates on each qubit, in which the exponential transforms them into rotation gates of the form $R_x(2\\beta)$. This form of $H_0$ is considered since we know how to create the ground state. You see, the ground state corresponds simply to the uniform superposition state! \n",
    "\n",
    "At this point, we arrived at the final form of the QAOA circuit, motivating each block! "
   ]
  },
  {
   "attachments": {},
   "cell_type": "markdown",
   "metadata": {},
   "source": [
    "### The full QAOA circuit <a id=\"qaoa_circuit\"></a>\n",
    "\n",
    "In the QAOA literature the two blocks are known as:\n",
    "  - $H_p$ - Problem Hamiltonian \n",
    "  - $H_0$ - Mixer Hamiltonian\n",
    "  \n",
    "<p align=\"center\">\n",
    "  <img width=\"800\" height=\"300\" src=\"images/qaoa.png\">\n",
    "</p>\n",
    "\n",
    "Suppose the state prepared by the QAOA circuit $|\\psi(\\alpha,\\beta)\\rangle$. Now we can variationally optimize the parameters $(\\alpha,\\beta)$ to obtain the ground state of the problem hamiltonian. Remember that the ground state encodes the solution of our problem of interest! \n",
    "\n",
    "Usually, since we start from the uniform superposition, $H_p$ is usually composed by rotations in $Z$. Thus what that we need to do in order to find the ground state, is to minimize the expectation value of the problem Hamiltonian $H_p$.\n",
    "\n",
    "$$ (\\alpha^*,\\beta^*) \\leftarrow \\argmin_{\\alpha,\\beta} \\langle \\psi(\\alpha,\\beta)|H_p|\\psi(\\alpha,\\beta)\\rangle$$\n",
    "\n",
    "At the end of the optimization procedure, the basis state with highest probability, correspond to the solution to our problem! "
   ]
  },
  {
   "cell_type": "markdown",
   "metadata": {},
   "source": [
    "### 5. Caveats <a id=\"caveats\"></a>\n",
    "\n",
    "- sampling from even for small circuit depths $p$ is classically intractable, which gives this model a potential exponential quantum advantage.\n",
    "- QAOA performance should increase with an increasing number of layers $p$\n",
    "- However, QAOA has no performance guarantees for finite $p$ \n",
    "- Limited device connectivity , so complex hamiltonians might neglect any possible advantage. \n",
    "- Increasing number of shots and iterations for increasing problem size. \n",
    "- Even though QAOA output distribution is hard to represent, some problems can be solved more efficiently using classical algorithms. Some examples depth 1 is efficiently reproduced by a classical algorithm.\n",
    "- Barren plateaus also happen for QAOA (in some configurations) [7]"
   ]
  },
  {
   "cell_type": "markdown",
   "metadata": {},
   "source": [
    "### 6. The MaxCut problem <a id=\"maxcut\"></a>\n",
    "\n",
    "A Max-Cut problem involves partitioning nodes of a graph into two sets, such that the number of edges between the sets is maximum. We can use networkx to create graphs. Below is an example of a graph with 5 nodes, and an example of a partition between \"purple\" and \"blue\" nodes"
   ]
  },
  {
   "cell_type": "code",
   "execution_count": 3,
   "metadata": {},
   "outputs": [
    {
     "data": {
      "image/png": "[encoded data removed]",
      "text/plain": [
       "<Figure size 640x480 with 1 Axes>"
      ]
     },
     "metadata": {},
     "output_type": "display_data"
    }
   ],
   "source": [
    "import networkx as nx\n",
    "\n",
    "n_qubits = 4\n",
    "\n",
    "G = nx.Graph()\n",
    "G.add_nodes_from(list(range(n_qubits)))\n",
    "G.add_edges_from([(0, 1), (1, 2), (2, 3), (3, 0)])\n",
    "nx.draw(G, with_labels=True, node_color=[\"purple\",\"purple\",\"purple\",\"blue\"],node_size=200)\n"
   ]
  },
  {
   "cell_type": "markdown",
   "metadata": {},
   "source": [
    "In this case, for 4 nodes, as each node can be assigned to either the \"purple\" or \"blue\" sets. There are $2^4 = 16$ possible assignments. In the graph above, there are 2 edges connecting the two sets. Thus, the cut is 2. The goal is to maximize the number of edges between sets, hence maximum cut. \n",
    "\n",
    "\n",
    "<p align=\"center\">\n",
    "  <img width=\"900\" height=\"350\" src=\"images/maxcut.jpeg\">\n",
    "</p>\n",
    "\n",
    "For a graph with 4 nodes, the maximum cut corresponds to an alternated bitstring Eg: 1010\n",
    "\n",
    "Let's consider the adjacency matrix for the graph: \n",
    "\n",
    "\\begin{equation*}\n",
    "    A_{ij} = \n",
    "    \\begin{pmatrix}\n",
    "    0 & 1 & 0 & 1\\\\\n",
    "    1 & 0 & 1 & 0\\\\\n",
    "    0 & 1 & 0 & 1\\\\\n",
    "    1 & 0 & 1 & 0\n",
    "    \\end{pmatrix}\n",
    "\\end{equation*}\n",
    "\n",
    "In a general *weighted undirected graph*, we have an adjacency matrix:\n",
    "\n",
    "\n",
    "\\begin{equation*}\n",
    "    A_{ij} = \n",
    "    \\begin{pmatrix}\n",
    "    w_{00} & w_{01} & w_{02} & w_{03}\\\\\n",
    "    w_{10} & w_{11} & w_{12} & w_{13}\\\\\n",
    "    w_{20} & w_{21} & w_{22} & w_{23}\\\\\n",
    "    w_{30} & w_{31} & w_{32} & w_{33}\n",
    "    \\end{pmatrix}\n",
    "\\end{equation*}\n",
    "\n",
    "You can obtain the adjacency matrix from networkx:\n"
   ]
  },
  {
   "cell_type": "code",
   "execution_count": 4,
   "metadata": {},
   "outputs": [
    {
     "name": "stdout",
     "output_type": "stream",
     "text": [
      "[[0 1 0 1]\n",
      " [1 0 1 0]\n",
      " [0 1 0 1]\n",
      " [1 0 1 0]]\n"
     ]
    }
   ],
   "source": [
    "A = nx.adjacency_matrix(G).todense()\n",
    "print(A)\n"
   ]
  },
  {
   "cell_type": "markdown",
   "metadata": {},
   "source": [
    "The MaxCut problem can be solved by maximizing the following cost:\n",
    "\n",
    "$$ C(x) = \\sum_{i,j} w_{ij} x_i(1-x_j)$$ \n",
    "\n",
    "i.e. find the bitstring x that maximizes the cut "
   ]
  },
  {
   "attachments": {},
   "cell_type": "markdown",
   "metadata": {},
   "source": [
    "In order to translate the the cost into a Hamiltonian we apply:\n",
    "\n",
    "map $x_i \\mapsto \\frac{1 - \\sigma_{z_i}}{2}$ because we want to work with spin systems and the eigenvalues encode the solution -> $\\sigma_z \\in \\{-1,1\\}$\n",
    "\n",
    "\n",
    "$$ \\sigma_{z_i}|x\\rangle = (-1)^{x_i}|x\\rangle $$\n",
    "\n",
    "\n",
    "If we use the mapping we arrive at the Hamiltonian,\n",
    "\n",
    "$$ H_p = \\frac{1}{2} \\sum_{i,j} w_{ij} (1 - \\sigma_{z_i}\\sigma_{z_j})$$\n"
   ]
  },
  {
   "cell_type": "markdown",
   "metadata": {},
   "source": [
    "### 7. QAOA implementation <a id=\"qaoa_maxcut\"></a>"
   ]
  },
  {
   "cell_type": "markdown",
   "metadata": {},
   "source": []
  },
  {
   "cell_type": "markdown",
   "metadata": {},
   "source": [
    "### Libraries and functions "
   ]
  },
  {
   "cell_type": "code",
   "execution_count": 5,
   "metadata": {},
   "outputs": [],
   "source": [
    "from qiskit import *\n",
    "from qiskit.circuit import Parameter\n",
    "from qiskit.visualization import plot_histogram\n",
    "import matplotlib.pyplot as plt\n",
    "%matplotlib inline\n",
    "import numpy as np\n",
    "\n",
    "from qiskit.circuit import Parameter"
   ]
  },
  {
   "cell_type": "code",
   "execution_count": 6,
   "metadata": {},
   "outputs": [],
   "source": [
    "from qiskit import *\n",
    "from qiskit.primitives import Sampler,Estimator\n",
    "import numpy as np\n",
    "import matplotlib.pyplot as plt\n",
    "\n",
    "def execute_circuit(qc, shots=1024, seed=None, binary=False , primitive=\"sampler\", observable=None, reverse=False):\n",
    "    \n",
    "    if reverse:\n",
    "        qc = qc.reverse_bits()\n",
    "\n",
    "    if primitive == \"estimator\":\n",
    "        options = {\"shots\": shots, \"seed\": seed}\n",
    "        estimator = Estimator(options=options)\n",
    "    \n",
    "        job = estimator.run(qc, observable)\n",
    "        result = job.result()  \n",
    "        \n",
    "        return result\n",
    "    \n",
    "    elif primitive == \"sampler\":\n",
    "        options = {\"shots\": shots, \"seed\": seed}\n",
    "        sampler = Sampler(options=options)\n",
    "    \n",
    "        job = sampler.run(qc)\n",
    "        result = job.result()  \n",
    "        \n",
    "        probability_dictionary = result.quasi_dists[0]\n",
    "\n",
    "        if binary:\n",
    "            \n",
    "            probability_dictionary = probability_dictionary.binary_probabilities()\n",
    "\n",
    "            \n",
    "        return probability_dictionary\n",
    "    "
   ]
  },
  {
   "cell_type": "markdown",
   "metadata": {},
   "source": [
    "<span style=\"color: red;\">EXERCISE 4.1</span> - Implement the quantum circuit for the MaxCut problem Hamiltonian. Notice that you don't need to include rotations in the circuit that with zero angle. "
   ]
  },
  {
   "cell_type": "code",
   "execution_count": 7,
   "metadata": {},
   "outputs": [],
   "source": [
    "# G -> graph || A -> Adjacency matrix || alpha -> parameter \n",
    "# alpha=1 to be neglected. However, when we have variational circuit, alpha will be a parameter passed as argument to the function\n",
    "\n",
    "### SOLUTION ###\n",
    "def problem_hamiltonian(G, A, alpha=1):\n",
    "\n",
    "    n_qubits = G.number_of_nodes()\n",
    "\n",
    "    nodes = QuantumRegister(n_qubits)\n",
    "    qc = QuantumCircuit(nodes, name=\"$H_p$\")\n",
    "\n",
    "    #for n in range(n_qubits):\n",
    "        #qc.rz(2*alpha, n)\n",
    "\n",
    "    for n0,n1 in list(G.edges()):\n",
    "        w = A[n0,n1]\n",
    "        if n0!=n1 and w:\n",
    "                qc.rzz(2*alpha*w, n0, n1)\n",
    "    \n",
    "    qc.barrier()\n",
    "    \n",
    "    return qc"
   ]
  },
  {
   "cell_type": "code",
   "execution_count": 8,
   "metadata": {},
   "outputs": [
    {
     "data": {
      "image/png": "[encoded data removed]",
      "text/plain": [
       "<Figure size 1141.64x367.889 with 1 Axes>"
      ]
     },
     "execution_count": 8,
     "metadata": {},
     "output_type": "execute_result"
    }
   ],
   "source": [
    "\n",
    "alpha = Parameter(\"$\\\\alpha$\")\n",
    "qc = problem_hamiltonian(G,A,alpha=alpha)\n",
    "qc.decompose().draw(output=\"mpl\")"
   ]
  },
  {
   "cell_type": "markdown",
   "metadata": {},
   "source": [
    "<span style=\"color: red;\">EXERCISE 5.1</span> - Implement the quantum circuit for the QAOA *general* initial Hamiltonian."
   ]
  },
  {
   "cell_type": "code",
   "execution_count": 9,
   "metadata": {},
   "outputs": [],
   "source": [
    "### Solution ###\n",
    "def initial_hamiltonian(n_qubits=1, beta=1):\n",
    "    qc = QuantumCircuit(n_qubits, name=\"$H_0$\")\n",
    "    qc.rx(2*beta, range(n_qubits))\n",
    "\n",
    "    return qc"
   ]
  },
  {
   "cell_type": "code",
   "execution_count": 10,
   "metadata": {},
   "outputs": [
    {
     "data": {
      "image/png": "[encoded data removed]",
      "text/plain": [
       "<Figure size 203.885x367.889 with 1 Axes>"
      ]
     },
     "execution_count": 10,
     "metadata": {},
     "output_type": "execute_result"
    }
   ],
   "source": [
    "n_qubits = 4\n",
    "\n",
    "beta = Parameter(\"$\\\\beta$\")\n",
    "qc = initial_hamiltonian(n_qubits, beta=beta)\n",
    "\n",
    "qc.decompose().draw(output=\"mpl\")"
   ]
  },
  {
   "cell_type": "markdown",
   "metadata": {},
   "source": [
    "<span style=\"color: red;\">EXERCISE 5.2</span> - Implement the quantum circuit for the QAOA initial state."
   ]
  },
  {
   "cell_type": "code",
   "execution_count": 11,
   "metadata": {},
   "outputs": [],
   "source": [
    "### Solution ###\n",
    "def qaoa_initial_state(n_qubits=1):\n",
    "    qc = QuantumCircuit(n_qubits, name=\"$S$\")\n",
    "    qc.h(range(n_qubits))\n",
    "\n",
    "    return qc"
   ]
  },
  {
   "cell_type": "code",
   "execution_count": 12,
   "metadata": {},
   "outputs": [
    {
     "data": {
      "image/png": "[encoded data removed]",
      "text/plain": [
       "<Figure size 203.885x367.889 with 1 Axes>"
      ]
     },
     "execution_count": 12,
     "metadata": {},
     "output_type": "execute_result"
    }
   ],
   "source": [
    "n_qubits = 4\n",
    "\n",
    "qc = qaoa_initial_state(n_qubits=n_qubits)\n",
    "\n",
    "qc.draw(output=\"mpl\")"
   ]
  },
  {
   "cell_type": "markdown",
   "metadata": {},
   "source": [
    "<span style=\"color: red;\">EXERCISE 5.3</span> - Compose each block to form the full QAOA circuit. Remember that we want several of layers $p$ to increase the expressivity of our model."
   ]
  },
  {
   "cell_type": "code",
   "execution_count": 13,
   "metadata": {},
   "outputs": [],
   "source": [
    "def QAOA(n_qubits=1, G=None, params=None, p=1):\n",
    "\n",
    "    qc = QuantumCircuit(n_qubits)\n",
    "    qc = qc.compose(qaoa_initial_state(n_qubits=n_qubits))#, range(n_qubits))\n",
    "    qc.barrier()\n",
    "    \n",
    "    for l in range(0,len(params),2):\n",
    "        qc = qc.compose(problem_hamiltonian(G, A, alpha=params[l]))#, range(n_qubits))\n",
    "        qc = qc.compose(initial_hamiltonian(n_qubits=n_qubits, beta=params[l+1]))#, range(n_qubits))\n",
    "        qc.barrier()\n",
    "\n",
    "    return qc \n",
    "    "
   ]
  },
  {
   "cell_type": "code",
   "execution_count": 14,
   "metadata": {},
   "outputs": [
    {
     "data": {
      "image/png": "[encoded data removed]",
      "text/plain": [
       "<Figure size 2126.94x367.889 with 1 Axes>"
      ]
     },
     "execution_count": 14,
     "metadata": {},
     "output_type": "execute_result"
    }
   ],
   "source": [
    "n_qubits = 4\n",
    "\n",
    "p=2\n",
    "params = np.ones(2*p)\n",
    "\n",
    "full_qaoa_circuit = QAOA(n_qubits=n_qubits, G=G, params=params, p=p)\n",
    "full_qaoa_circuit.draw(output=\"mpl\")"
   ]
  },
  {
   "cell_type": "markdown",
   "metadata": {},
   "source": [
    "<span style=\"color: red;\">EXERCISE 5.4</span> - Define a function that return the cost in terms of the number of layers you put in QAOA circuit"
   ]
  },
  {
   "cell_type": "code",
   "execution_count": 15,
   "metadata": {},
   "outputs": [],
   "source": [
    "def loss_function(x,counts):\n",
    "    loss=0\n",
    "    for i, j in G.edges():\n",
    "        if x[i] != x[j]:\n",
    "            loss -= 1\n",
    "        \n",
    "    loss *= counts\n",
    "    return loss"
   ]
  },
  {
   "cell_type": "code",
   "execution_count": 16,
   "metadata": {},
   "outputs": [],
   "source": [
    "def cost_function(n_qubits=1, G=None, params=None, p=1):\n",
    "\n",
    "    full_qaoa_circuit = QAOA(n_qubits=n_qubits, G=G, params=params, p=p)\n",
    "    full_qaoa_circuit.measure_all()\n",
    "\n",
    "    shots = 2048\n",
    "    probs  = execute_circuit(full_qaoa_circuit, shots=shots, primitive=\"sampler\", binary=True, reverse=True)\n",
    "\n",
    "    cost = 0\n",
    "    for (x,prob) in probs.items():\n",
    "        cost+=loss_function(x, prob)\n",
    "    \n",
    "    cost /= shots\n",
    "\n",
    "    return cost"
   ]
  },
  {
   "cell_type": "code",
   "execution_count": 17,
   "metadata": {},
   "outputs": [
    {
     "name": "stdout",
     "output_type": "stream",
     "text": [
      "-7.581710815429688e-05\n"
     ]
    }
   ],
   "source": [
    "print(cost_function(n_qubits=n_qubits, G=G, params=np.ones(2*p), p=1))\n"
   ]
  },
  {
   "attachments": {},
   "cell_type": "markdown",
   "metadata": {},
   "source": [
    "### Maximize cut - equal to minimize cost\n"
   ]
  },
  {
   "cell_type": "code",
   "execution_count": 21,
   "metadata": {},
   "outputs": [],
   "source": [
    "from qiskit_algorithms.optimizers import COBYLA, SPSA\n",
    "\n",
    "p=2\n",
    "pp = np.ones(2*p)\n",
    "\n",
    "#optimizer = COBYLA()\n",
    "optimizer = SPSA()\n",
    "\n",
    "\n",
    "objective_function = lambda pp: cost_function(n_qubits=n_qubits, G=G, params=pp, p=p)\n",
    "\n",
    "res = optimizer.minimize(objective_function, pp)"
   ]
  },
  {
   "cell_type": "code",
   "execution_count": 22,
   "metadata": {},
   "outputs": [
    {
     "name": "stdout",
     "output_type": "stream",
     "text": [
      "{   'fun': -0.0019311904907226562,\n",
      "    'jac': None,\n",
      "    'nfev': 200,\n",
      "    'nit': 100,\n",
      "    'njev': None,\n",
      "    'x': array([-0.70125779,  0.44975381,  1.16658999, -0.87337151])}\n"
     ]
    }
   ],
   "source": [
    "print(res)"
   ]
  },
  {
   "cell_type": "markdown",
   "metadata": {},
   "source": [
    "<span style=\"color: red;\">EXERCISE 5.5</span> - Extract basis state with higher probability"
   ]
  },
  {
   "cell_type": "code",
   "execution_count": 23,
   "metadata": {},
   "outputs": [
    {
     "data": {
      "image/png": "[encoded data removed]",
      "text/plain": [
       "<Figure size 700x500 with 1 Axes>"
      ]
     },
     "execution_count": 23,
     "metadata": {},
     "output_type": "execute_result"
    }
   ],
   "source": [
    "new_qc = QAOA(n_qubits=n_qubits, G=G, params=res.x, p=p)\n",
    "new_qc.measure_all()\n",
    "\n",
    "#new_qc.decompose().draw(output=\"mpl\")\n",
    "counts = execute_circuit(new_qc, shots=2048, primitive=\"sampler\", binary=True, reverse=True)\n",
    "                         \n",
    "plot_histogram(counts)"
   ]
  },
  {
   "cell_type": "markdown",
   "metadata": {},
   "source": [
    "## 8. QAOA from qiskit_algorithms <a id=\"qiskit_algorithms\"></a>"
   ]
  },
  {
   "cell_type": "code",
   "execution_count": 24,
   "metadata": {},
   "outputs": [],
   "source": [
    "from qiskit_optimization.applications import Maxcut"
   ]
  },
  {
   "cell_type": "code",
   "execution_count": 25,
   "metadata": {},
   "outputs": [
    {
     "name": "stdout",
     "output_type": "stream",
     "text": [
      "maximize -2*x_0*x_1 - 2*x_0*x_3 - 2*x_1*x_2 - 2*x_2*x_3 + 2*x_0 + 2*x_1 + 2*x_2 + 2*x_3 (4 variables, 0 constraints, 'Max-cut')\n",
      "SparsePauliOp(['IIZZ', 'ZIIZ', 'IZZI', 'ZZII'],\n",
      "              coeffs=[0.5+0.j, 0.5+0.j, 0.5+0.j, 0.5+0.j])\n"
     ]
    }
   ],
   "source": [
    "max_cut = Maxcut(G)\n",
    "qp = max_cut.to_quadratic_program()\n",
    "\n",
    "print(qp)\n",
    "\n",
    "qubitOp, offset = qp.to_ising()\n",
    "\n",
    "print(qubitOp)"
   ]
  },
  {
   "cell_type": "code",
   "execution_count": 37,
   "metadata": {},
   "outputs": [],
   "source": [
    "from qiskit_algorithms import QAOA\n",
    "from qiskit.primitives import Sampler\n",
    "from qiskit_algorithms.optimizers import COBYLA,ADAM,SPSA\n"
   ]
  },
  {
   "cell_type": "code",
   "execution_count": 41,
   "metadata": {},
   "outputs": [
    {
     "name": "stdout",
     "output_type": "stream",
     "text": [
      "{   'aux_operators_evaluated': None,\n",
      "    'best_measurement': {   'bitstring': '0101',\n",
      "                            'probability': 0.4999999525344007,\n",
      "                            'state': 5,\n",
      "                            'value': (-2+0j)},\n",
      "    'cost_function_evals': 88,\n",
      "    'eigenstate': {   0: 4e-16,\n",
      "                      1: 8.2030801e-09,\n",
      "                      2: 8.2030801e-09,\n",
      "                      3: 8.3317289e-09,\n",
      "                      4: 8.2030801e-09,\n",
      "                      5: 0.4999999505242212,\n",
      "                      6: 8.3317289e-09,\n",
      "                      7: 8.2030801e-09,\n",
      "                      8: 8.2030801e-09,\n",
      "                      9: 8.3317289e-09,\n",
      "                      10: 0.4999999505242214,\n",
      "                      11: 8.2030801e-09,\n",
      "                      12: 8.3317289e-09,\n",
      "                      13: 8.2030801e-09,\n",
      "                      14: 8.2030801e-09,\n",
      "                      15: 4e-16},\n",
      "    'eigenvalue': -1.9999998020968834,\n",
      "    'optimal_circuit': <qiskit.circuit.quantumcircuit.QuantumCircuit object at 0x17cf3cfa0>,\n",
      "    'optimal_parameters': {   ParameterVectorElement(γ[0]): 0.9042725135179607,\n",
      "                              ParameterVectorElement(β[0]): 1.0115418542947747,\n",
      "                              ParameterVectorElement(β[1]): 1.1186645918457698,\n",
      "                              ParameterVectorElement(γ[1]): 1.1185707649226975},\n",
      "    'optimal_point': array([1.01154185, 1.11866459, 0.90427251, 1.11857076]),\n",
      "    'optimal_value': -1.9999998020968834,\n",
      "    'optimizer_evals': None,\n",
      "    'optimizer_result': <qiskit_algorithms.optimizers.optimizer.OptimizerResult object at 0x17c8dd940>,\n",
      "    'optimizer_time': 0.4881010055541992}\n"
     ]
    }
   ],
   "source": [
    "n_reps = 2\n",
    "pp = np.ones(2*n_reps)\n",
    "\n",
    "qaoa_mes = QAOA(sampler=Sampler(), reps=n_reps, optimizer=COBYLA(), initial_point=pp)\n",
    "s = qaoa_mes.compute_minimum_eigenvalue(qubitOp)\n",
    "\n",
    "print(s)"
   ]
  },
  {
   "cell_type": "code",
   "execution_count": 42,
   "metadata": {},
   "outputs": [
    {
     "name": "stdout",
     "output_type": "stream",
     "text": [
      "{'state': 5, 'bitstring': '0101', 'value': (-2+0j), 'probability': 0.4999999525344007}\n"
     ]
    }
   ],
   "source": [
    "print(s.best_measurement)"
   ]
  },
  {
   "cell_type": "code",
   "execution_count": 43,
   "metadata": {},
   "outputs": [
    {
     "data": {
      "image/png": "[encoded data removed]",
      "text/plain": [
       "<Figure size 700x500 with 1 Axes>"
      ]
     },
     "execution_count": 43,
     "metadata": {},
     "output_type": "execute_result"
    }
   ],
   "source": [
    "plot_histogram(s.eigenstate)"
   ]
  },
  {
   "cell_type": "markdown",
   "metadata": {},
   "source": [
    "#### 6. References\n",
    "[1] - Ising formulations of many NP problems - https://arxiv.org/pdf/1302.5843.pdf\n",
    "\n",
    "[2] - Quantum computation by adiabatic evolution - https://arxiv.org/abs/quant-ph/0001106\n",
    "\n",
    "[3] - A Quantum Approximate Optimization Algorithm - https://arxiv.org/abs/1411.4028\n",
    "\n",
    "[4] - From the Quantum Approximate Optimization Algorithm to a Quantum Alternating Operator Ansatz - https://arxiv.org/abs/1709.03489\n",
    "\n",
    "[5] - Quantum Approximate Optimization Algorithm - https://qiskit.org/documentation/tutorials/algorithms/05_qaoa.html\n",
    "\n",
    "[6] - Lecture 5.2 - Introduction to the Quantum Approximate Optimization Algorithm and Applications - https://www.youtube.com/watch?v=YpLzSQPrgSc&list=PLOFEBzvs-VvqJwybFxkTiDzhf5E11p8BI&index=14\n",
    "\n",
    "[7] - Review on barren plateaus - https://arxiv.org/abs/2405.00781\n",
    "\n"
   ]
  },
  {
   "cell_type": "markdown",
   "metadata": {},
   "source": []
  }
 ],
 "metadata": {
  "interpreter": {
   "hash": "62314c999a2395b70c6666201aadb026cfae52075e045b8f587202e06e575832"
  },
  "kernelspec": {
   "display_name": "Python 3.10.1 ('quantum_DS')",
   "language": "python",
   "name": "python3"
  },
  "language_info": {
   "codemirror_mode": {
    "name": "ipython",
    "version": 3
   },
   "file_extension": ".py",
   "mimetype": "text/x-python",
   "name": "python",
   "nbconvert_exporter": "python",
   "pygments_lexer": "ipython3",
   "version": "3.9.19"
  },
  "orig_nbformat": 4
 },
 "nbformat": 4,
 "nbformat_minor": 2
}
