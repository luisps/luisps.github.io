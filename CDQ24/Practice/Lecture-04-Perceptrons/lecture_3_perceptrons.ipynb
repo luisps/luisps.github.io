{
 "cells": [
  {
   "cell_type": "markdown",
   "metadata": {},
   "source": [
    "#### Quantum Data Science 23/24\n",
    "\n",
    "# Lecture 3 - Perceptrons"
   ]
  },
  {
   "cell_type": "markdown",
   "metadata": {},
   "source": [
    "\n",
    "### Table of Contents\n",
    "\n",
    "1. [Perceptron](#perceptron)\n",
    "2. [Hands-on exercise](#hands_on_exercise_1)\n",
    "3. [Sklearn perceptron](#sklearn_perceptron)"
   ]
  },
  {
   "cell_type": "markdown",
   "metadata": {},
   "source": [
    "### 1 Perceptron <a id='perceptron'></a>"
   ]
  },
  {
   "cell_type": "markdown",
   "metadata": {},
   "source": [
    "<img title=\"a title\" alt=\"Alt text\" src=\"images/neuron_vs_perceptron.png\">\n",
    "\n",
    "- The perceptron algorithm, developed by Frank Rosenblatt in 1957, represents one of the earliest supervised learning algorithms and forms the foundation for neural networks and deep learning. Inspired by biological neurons, the perceptron was designed to mimic the way a neuron processes input signals and generates an output signal.\n",
    "\n",
    "- A biological neuron receives inputs through its dendrites, processes these inputs in its cell body, and then generates an output signal that travels along its axon. Similarly, the perceptron receives multiple input signals, processes them, and produces a single binary output. The primary purpose of the perceptron is classification, specifically, to classify input data into one of two categories, making it a linear binary classifier. It is best applied to problems where the data is linearly separable, meaning the two categories can be separated by a straight line (or hyperplane in higher dimensions).\n",
    "\n",
    "The perceptron is the artificial realization of a biological neuron. It takes a set of inputs, multiplies them by a set of weights, and then passes the overall summation through an *heaviside step function*. \n",
    "\n",
    "$$\n",
    "\\begin{equation}\n",
    "    \\hat{y} = \\begin{cases}\n",
    "        1 & \\text{if } \\sum_{i=1}^{n} w_i x_i + b \\geq 0 \\\\\n",
    "        0 & \\text{otherwise}    \n",
    "    \\end{cases}\n",
    "\\end{equation}\n",
    "$$"
   ]
  },
  {
   "cell_type": "markdown",
   "metadata": {},
   "source": [
    "#### **Learning rule**\n",
    "\n",
    "Goal: Learn optimal weights $\\theta$ and bias $b$ for a given task by minimizing the error of our prediction.\n",
    "\n",
    "Suppose a binary classification task. Let $y$ be the true label and $\\hat{y}$ the predicted label coming from our model. The perceptron define the error (*loss*) as the difference between the true label and the predicted label and updates weights and bias using a simple learning rule:\n",
    "\n",
    "$$\n",
    "\\begin{align}\n",
    "    \\theta &= \\theta - (y - \\hat{y})x \\\\\n",
    "    b &= b - (y - \\hat{y})\n",
    "\\end{align}\n",
    "$$\n",
    "\n",
    "Thus it updates the weights and bias only when the prediction is wrong. This is known as the *perceptron learning rule*. There are many variants of this rule, especially around the learning rate and the well-known *stochastic gradient descent* algorithm. "
   ]
  },
  {
   "cell_type": "markdown",
   "metadata": {},
   "source": [
    "### 2 Hands-on exercise  <a id='hands-on_exercise_1'></a>\n"
   ]
  },
  {
   "cell_type": "markdown",
   "metadata": {},
   "source": [
    "The [Scikit-learn](https://scikit-learn.org/stable/index.html) library provides a set of small standard datasets that are useful for quickly demonstrating the behavior of the various algorithms implemented in the library. They are documented in the Datasets section [Sklearn datasets](https://scikit-learn.org/stable/modules/classes.html#module-sklearn.datasets)\n",
    "\n",
    "You can even make you artificial datasets using the make_* functions [make random datasets sklearn](https://scikit-learn.org/stable/modules/classes.html#samples-generator)\n",
    "\n",
    "Let us use the make_classification function to generate a linearly separable dataset for a binary classifier. \n"
   ]
  },
  {
   "cell_type": "code",
   "execution_count": 8,
   "metadata": {},
   "outputs": [
    {
     "data": {
      "image/png": "[encoded data removed]",
      "text/plain": [
       "<Figure size 432x288 with 1 Axes>"
      ]
     },
     "metadata": {
      "needs_background": "light"
     },
     "output_type": "display_data"
    }
   ],
   "source": [
    "from sklearn.datasets import make_classification\n",
    "import matplotlib.pyplot as plt\n",
    "\n",
    "n_features = 2\n",
    "n_samples = 100\n",
    "n_classes = 2\n",
    "\n",
    "# Generate a linearly separable dataset\n",
    "X, y = make_classification(n_features=n_features, n_redundant=0, n_informative=2,\n",
    "                           n_clusters_per_class=1, n_classes=n_classes, random_state=1)\n",
    "\n",
    "# Visualize the dataset\n",
    "plt.scatter(X[:, 0], X[:, 1], marker='o', c=y, s=25, edgecolor='k')\n",
    "plt.xlabel('Feature 1')\n",
    "plt.ylabel('Feature 2')\n",
    "plt.title('Linearly Separable Dataset')\n",
    "plt.show()"
   ]
  },
  {
   "cell_type": "markdown",
   "metadata": {},
   "source": [
    "Recall that data should be split into training and test sets. \n",
    "\n",
    "Sklearn provides a [train_test_split](https://scikit-learn.org/stable/modules/generated/sklearn.model_selection.train_test_split.html) function to do this."
   ]
  },
  {
   "cell_type": "code",
   "execution_count": 9,
   "metadata": {},
   "outputs": [
    {
     "name": "stdout",
     "output_type": "stream",
     "text": [
      "X_train shape:  (70, 2)\n",
      "X_test shape:  (30, 2)\n",
      "y_train shape:  (70,)\n",
      "y_test shape:  (30,)\n"
     ]
    }
   ],
   "source": [
    "from sklearn.model_selection import train_test_split\n",
    "\n",
    "# 0.7 / 0.3 train-test random split\n",
    "X_train, X_test, y_train, y_test = train_test_split(\n",
    "    X, y, test_size=0.3)\n",
    "\n",
    "print(\"X_train shape: \", X_train.shape)\n",
    "print(\"X_test shape: \", X_test.shape)\n",
    "print(\"y_train shape: \", y_train.shape)\n",
    "print(\"y_test shape: \", y_test.shape)"
   ]
  },
  {
   "cell_type": "markdown",
   "metadata": {},
   "source": [
    "#### **Create the perceptron algorithm**\n",
    "\n",
    "Train the perceptron and test on unseen y_test data"
   ]
  },
  {
   "cell_type": "code",
   "execution_count": null,
   "metadata": {},
   "outputs": [],
   "source": [
    "class Perceptron:\n",
    "    \n",
    "    def __init__(self, eta=0.01, n_iter=10, weights=None, bias=None):\n",
    "        self.eta = eta\n",
    "        self.n_iter = n_iter\n",
    "        self.weights = weights\n",
    "        self.bias = bias\n",
    "    \n",
    "    def linear_model(self, X):\n",
    "        \"\"\"Calculate the inner product of the input and the weights and add the bias\"\"\"\n",
    "        \n",
    "    def heaviside(self, X):\n",
    "        \"\"\"Return class label after heaviside function\"\"\"\n",
    "    \n",
    "    def fit(self, X, y):\n",
    "        \"\"\" Train the perceptron for n_iter using the learning rule explained above \"\"\"\n",
    "        \n",
    "    def predict(self, X):\n",
    "        \"\"\"High level function to predict the class label for a given input to be used at test time\"\"\"\n",
    "\n"
   ]
  },
  {
   "cell_type": "code",
   "execution_count": null,
   "metadata": {},
   "outputs": [],
   "source": [
    "#create a perceptron object\n",
    "eta = 0.1\n",
    "n_iter = 10\n",
    "\n",
    "ppn = Perceptron(eta=eta, n_iter=n_iter)\n",
    "\n",
    "#train the perceptron\n",
    "ppn.fit(X_train, y_train)\n",
    "\n",
    "#predict the class labels\n",
    "y_pred = ppn.predict(X_test)"
   ]
  },
  {
   "cell_type": "markdown",
   "metadata": {},
   "source": [
    "#### **Test the accuracy of the model**\n"
   ]
  },
  {
   "cell_type": "code",
   "execution_count": 10,
   "metadata": {},
   "outputs": [],
   "source": [
    "def accuracy(y_true, y_pred):\n",
    "    \"\"\"Calculate the accuracy of the model\"\"\""
   ]
  },
  {
   "cell_type": "markdown",
   "metadata": {},
   "source": [
    "### 3 Sklearn perceptron <a id='sklearn_perceptron'></a>"
   ]
  },
  {
   "cell_type": "code",
   "execution_count": 11,
   "metadata": {},
   "outputs": [],
   "source": [
    "from sklearn.linear_model import Perceptron\n",
    "from sklearn.metrics import accuracy_score"
   ]
  },
  {
   "cell_type": "code",
   "execution_count": null,
   "metadata": {},
   "outputs": [],
   "source": [
    "# Step 3: Train the Perceptron\n",
    "perceptron = Perceptron(max_iter=1000, tol=1e-3, random_state=1)\n",
    "perceptron.fit(X_train, y_train)\n",
    "\n",
    "# Step 4: Evaluate the model\n",
    "y_pred = perceptron.predict(X_test)\n",
    "accuracy = accuracy_score(y_test, y_pred)\n",
    "print(f'Accuracy: {accuracy:.2f}')"
   ]
  },
  {
   "cell_type": "markdown",
   "metadata": {},
   "source": [
    "#### **Plot the decision boundary**"
   ]
  },
  {
   "cell_type": "code",
   "execution_count": null,
   "metadata": {},
   "outputs": [],
   "source": [
    "from sklearn.inspection import DecisionBoundaryDisplay\n",
    "classifier = perceptron.fit(X_train, y_train)\n",
    "disp = DecisionBoundaryDisplay.from_estimator(\n",
    "   classifier, X_train, response_method=\"predict\",\n",
    "   xlabel=\"Feature 1\", ylabel=\"Feature 2\",\n",
    "   alpha=0.5)\n",
    "disp.ax_.scatter(X_train[:, 0], X_train[:, 1], c=y_train, edgecolor=\"k\")"
   ]
  }
 ],
 "metadata": {
  "kernelspec": {
   "display_name": "quantum_DS",
   "language": "python",
   "name": "python3"
  },
  "language_info": {
   "codemirror_mode": {
    "name": "ipython",
    "version": 3
   },
   "file_extension": ".py",
   "mimetype": "text/x-python",
   "name": "python",
   "nbconvert_exporter": "python",
   "pygments_lexer": "ipython3",
   "version": "3.10.4"
  }
 },
 "nbformat": 4,
 "nbformat_minor": 2
}
