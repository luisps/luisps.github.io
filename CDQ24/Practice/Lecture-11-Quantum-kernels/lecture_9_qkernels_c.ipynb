{
 "cells": [
  {
   "cell_type": "markdown",
   "metadata": {},
   "source": [
    "##### Quantum Data Science 2023/2024\n",
    "# Lecture 9 - Quantum Feature maps, Kernels and Support Vector Machines\n",
    "\n",
    "<!-- no toc -->\n",
    "### Contents \n",
    "\n",
    "1. [Recap: Support Vector Machines with kernels](#svm_kernels)\n",
    "2. [Data encoding as a Quantum Feature map](#qfeaturemap)\n",
    "3. [Quantum Kernel estimation](#qke)\n",
    "4. [Quantum Kernel estimation in Qiskit](#qke)\n",
    "5. [SVM's with Quantum Kernels for ad_hoc_dataset](#qke_ad_hoc)\n",
    "   1. [example with amplitude encoding](#qke_ad_hoc_amplitude_encoding)\n",
    "   2. [example with the Pauli Kernel](#qke_ad_hoc_pauli_kernel)\n",
    "   3. [example with the IQP encoding](#qke_iqp_encoding)\n",
    "6. [Caveats](#caveats)\n",
    "7. [References](#references)"
   ]
  },
  {
   "cell_type": "markdown",
   "metadata": {},
   "source": [
    "## 1. Recap: Support Vector Machines with kernels <a id='margins_intuition'></a>\n",
    "    \n",
    "*Support vector machines (SVMs)* are a powerful class of supervised learning algorithms (even today believed by some to be the best off the shelf supervised learning algorithm) for classification and regression problems. In this lecture, we will focus on the binary classification problem. The main idea behind SVMs is to find the hyperplane that best separates the data into different classes. \n",
    "\n",
    "Why hyperplanes ? From the *Occam’s razor principle*, hypothesis sets with smaller complexity provide better learning guarantees. A natural hypothesis set with relatively small complexity is that of *linear classifiers*, or hyperplanes.\n",
    "\n",
    "$$ \\mathcal{H} = \\{x \\mapsto sign(w^T x + b) : x \\in \\mathbb{R}^M, w \\in \\mathbb{R}^M, b \\in \\mathbb{R} \\}$$ \n",
    "\n",
    "\n",
    "which is other way of saying what we had in our percetron algorithm with the heaviside step function.\n",
    "\n",
    "General equation of the hyperplane $w^T x + b=0$. Consider labels $y \\in \\{-1,1\\}$.\n",
    "\n",
    "The sign operator returns the sign of the operation inside the brackets. Thus, the hypothesis labels positively all points falling on one side of the hyperplane and negatively all others (Figure below left)\n",
    "\n",
    "<p align=\"center\">\n",
    " <img width=\"1000\" height=\"450\" src=\"images/margins.png\">\n",
    "</p>"
   ]
  },
  {
   "cell_type": "markdown",
   "metadata": {},
   "source": [
    "Which hyperplane should we choose from the infinite number of possible hyperplanes? We don't know yet, but one thing we can agree is that the points the further away from the hyperplane, the more confident we are about their classification right ? In the figure in the middle we notice that we need a very small change in the green hyperplane to misclassify a datapoint. Therefore, a good hyperplane would be one that has a large margin between points of different classes. This is the intuition behind SVMs and the reason why they are called *maximum margin classifiers* (illustrated in the figure on the right)."
   ]
  },
  {
   "cell_type": "markdown",
   "metadata": {},
   "source": [
    "#### --- Dual formulation <a id='dual_formulation'></a>\n",
    "\n",
    "However, notice that we are trying to optimize a function in which the weights $w$ are $N$ dimensional with $N$ being the number of features. This is a problem because the optimization problem becomes computationally expensive as the number of features increases. \n",
    "\n",
    "The dual formulation removes the dependence on the weights $w$ be noticing that the optimal weights can be expressed as a linear combination of the training data points if we set the derivatives to zero (convex problem -> KKT conditions), simplifying the problem to: \n",
    "\n",
    "$$\n",
    "\\begin{equation*}\n",
    "L(\\alpha) = \\sum_{i=0}^{M-1} \\alpha_i - \\frac{1}{2} \\sum_{i=0}^{M-1} \\sum_{j=0}^{M-1} \\alpha_i \\alpha_j y_i y_j x_i \\cdot x_j\n",
    "\\end{equation*}\n",
    "$$\n",
    "\n",
    "subject to the constraints $\\alpha_i \\geq 0$ and $\\sum_{i=0}^{M-1} \\alpha_i y_i = 0$. \n",
    "\n",
    "Thus, we optimize for as many parameters as the number of training data points, which is computationally more efficient, and after the optimization only support vectors will have non-zero $\\alpha_i$ values.\n",
    "\n",
    "The model can be expressed as:\n",
    "\n",
    "$$\n",
    "\\begin{equation*}\n",
    "f(x) =\\sum_{i=0}^{M-1} \\alpha_i y_i x_i \\cdot x + b\n",
    "\\end{equation*}\n",
    "$$"
   ]
  },
  {
   "cell_type": "markdown",
   "metadata": {},
   "source": [
    "#### --- Kernel trick <a id='dual_formulation'></a>\n",
    "\n",
    "Recall that the SVM is a linear model , thus it cannot classify non-linear data. However, we can use the kernel trick to map the data into a higher dimensional space where it may be easier to separate. \n",
    "\n",
    "It replaces the dot product $x_i \\cdot x_j$ with a dot product in a feature space of higher dimensionality, where the data is linearly separable by a hyperplane.\n",
    "\n",
    "<p align=\"center\">\n",
    "    <img width=\"1000\" height=\"500\" src=\"images/kernel_trick.png\">\n",
    "</p>\n",
    "\n"
   ]
  },
  {
   "cell_type": "markdown",
   "metadata": {},
   "source": [
    "We replace the inner product with an inner product in a higher dimensional space:\n",
    "\n",
    "$$\n",
    "\\begin{equation*}\n",
    "L(\\alpha) = \\sum_{i=0}^{M-1} \\alpha_i - \\frac{1}{2} \\sum_{i=0}^{M-1} \\sum_{j=0}^{M-1} \\alpha_i \\alpha_j y_i y_j k(x_i,x_j)\n",
    "\\end{equation*}\n",
    "$$\n",
    "\n",
    "where $k$ is the kernel function that acts as a similarity measure between two points $x_i$ and $x_j$ in feature space: \n",
    "\n",
    "$$ K: \\Omega \\times \\Omega \\mapsto \\mathbb{R} $$\n",
    "$$ K: (x,y) \\longmapsto k(x,y)=\\langle\\phi(x) , \\phi(y)\\rangle $$\n",
    "\n",
    "The Kernel trick allow us to compare points in high dimensional feature spaces by using the original input vectors! \n",
    "\n",
    "**Mercer's condition**: $k(x,y) \\geq 0$  and the kernel matrix $\\mathcal{K}$:\n",
    "\n",
    "$$ \\mathcal{K} = \\left[ k(x,y) \\right]_{xy}$$ \n",
    "\n",
    "Thus, the kernel function is positive definite and symmetric $k(x,x') \\geq 0$ and the optimization problem is convex.\n",
    "\n",
    "Therefore, the Kernel matrix that compare each pair of points is also positive definite with diagonal ones $K_{ii} = 1$\n"
   ]
  },
  {
   "cell_type": "markdown",
   "metadata": {},
   "source": [
    "\n",
    "  **stricly convex**. This is awesome because it tell us that we have a unique solution - Any local minimum is the global minimum. This is not true is general neural networks algorithms. Here there are well established theoretical guarantees. For instance the the number of datapoints necessary to generalize and guarantee a minimum prediction error - Sample complexity. See [1]\n",
    "  \n",
    "<p align=\"center\">\n",
    " <img width=\"800\" height=\"400\" src=\"images/convex.jpeg\">\n",
    "</p>\n"
   ]
  },
  {
   "cell_type": "markdown",
   "metadata": {},
   "source": [
    "\n",
    "----------------\n",
    "#### Examples of kernels:\n",
    "\n",
    "<p align=\"center\">\n",
    "<img width=\"/00\" height=\"300\" src=\"images/kernels.png\">\n",
    "</p>\n",
    "\n",
    "----------------\n",
    "\n"
   ]
  },
  {
   "cell_type": "markdown",
   "metadata": {},
   "source": [
    "---\n",
    "\n",
    "$\\gamma$ in the Gaussian (or Radial Basis Function RBF) kernel is a hyperparameter that controls the bandwidth of the kernel. \n",
    "\n",
    "Usually $\\gamma=\\frac{1}{2\\sigma^2}$ where $\\sigma$ is the standard deviation of the Gaussian. Variance $\\sigma^2 = 1$ is a common choice. But it depends on the problem and fine tuning may be needed.\n",
    "\n",
    "\n",
    "\n",
    "---"
   ]
  },
  {
   "cell_type": "markdown",
   "metadata": {},
   "source": [
    "## 2 - Quantum Feature maps and kernels <a id=\"qfeaturemap\"></a>"
   ]
  },
  {
   "cell_type": "markdown",
   "metadata": {},
   "source": [
    "### If the kernel can be any positive definite function, then the kernel can also come from a quantum circuit ! All we need is a quantum feature map and a way of comparing data datapoins in quantum feature space!\n",
    "\n",
    "why ? \n",
    "\n",
    "\n",
    "- Because quantum computers already work in high dimensional feature spaces - we can benefit from quantum computers that easily manipulate data that live in $2^n$ in  Hilbert space. We just need to map classical data to a quantum computer and then compare the data in quantum feature space. Right? \n",
    "  \n",
    "    How? \n",
    "\n",
    "    "
   ]
  },
  {
   "cell_type": "markdown",
   "metadata": {},
   "source": [
    "### Quantum Feature map:\n",
    "\n",
    "$$ \\phi: x \\mapsto |\\phi(x) \\rangle $$\n",
    "\n",
    "### Quantum kernel: \n",
    "\n",
    "For two points $x$ and $y$ , we can use the overlap: \n",
    "\n",
    "$$k(x,y) = |\\langle \\phi(x) | \\phi(y) \\rangle|^2 $$\n",
    "\n",
    "as the kernel function where $|\\$ and $\\phi$ is the quantum feature map (mapping of classical data into quantum system).\n",
    "\n",
    "\n",
    "This is indeed a kernel. Notice that this is also positive semidefinite ( $k(x,y) \\geq 0 $)"
   ]
  },
  {
   "cell_type": "markdown",
   "metadata": {},
   "source": [
    "## 3 - Quantum Kernel estimation <a id=\"qke\"></a>\n",
    "\n",
    "\n",
    "Recall that the overlap can be obtained with standard SWAP TEST / INVERSION TEST circuits (lecture 1 and 2)."
   ]
  },
  {
   "cell_type": "markdown",
   "metadata": {},
   "source": [
    "<p align=\"center\">\n",
    " <img width=\"850\" height=\"350\" src=\"images/swap_test_inversion_test.png\">\n",
    "</p>\n"
   ]
  },
  {
   "cell_type": "markdown",
   "metadata": {
    "vscode": {
     "languageId": "plaintext"
    }
   },
   "source": [
    "#### Therefore , data encoding + swap tests is all we need to quantum kernels"
   ]
  },
  {
   "cell_type": "markdown",
   "metadata": {},
   "source": [
    "#### Types of functions being generated from the data encoding \n",
    "\n",
    "\n",
    "<p align=\"center\">\n",
    " <img width=\"/00\" height=\"300\" src=\"images/kernel_types.png\">\n",
    "</p>"
   ]
  },
  {
   "cell_type": "markdown",
   "metadata": {},
   "source": [
    "*\"Because quantum computers already work in high dimensional feature spaces - we can benefit from quantum computers that easily manipulate data that live in $2^n$ in  Hilbert space. We just need to map classical data to a quantum computer and then compare the data in quantum feature space. Right?\"*\n",
    "  \n",
    "\n",
    "Well, not entirely true ... \n",
    "\n",
    "Notice that classical computers can efficiently compute said kernels. Therefore, the goal here is to exploit quantum processes that are not efficiently recovered by a classical computer and create powerful feature maps! \n",
    "\n",
    "One such example is the IQP encoding: \n",
    "\n",
    "<p align=\"center\">\n",
    " <img width=\"800\" height=\"250\" src=\"images/IQP.png\">\n",
    "</p>\n",
    "\n",
    "which is conjectured to be hard to simulate classically, as we increase the number of layers, especially for layers > 2. \n",
    "\n"
   ]
  },
  {
   "cell_type": "markdown",
   "metadata": {
    "vscode": {
     "languageId": "plaintext"
    }
   },
   "source": [
    "## 4 - Quantum Kernel estimation in Qiskit <a id=\"qke_qiskit\"></a>\n",
    "\n",
    "\n",
    "Qiskit provide a [Quantum Kernels module](https://qiskit-community.github.io/qiskit-machine-learning/apidocs/qiskit_machine_learning.kernels.html) providing a quantum kernel estimator algorithm for the overlap kernel. \n",
    "\n",
    "```python\n",
    "\n",
    "class FidelityQuantumKernel(feature_map=None, fidelity=None, enforce_psd=True, evaluate_duplicates='off_diagonal', max_circuits_per_job=None)\n",
    "\n"
   ]
  },
  {
   "cell_type": "code",
   "execution_count": 1,
   "metadata": {},
   "outputs": [],
   "source": [
    "from qiskit_machine_learning.kernels import FidelityQuantumKernel"
   ]
  },
  {
   "cell_type": "code",
   "execution_count": 121,
   "metadata": {},
   "outputs": [],
   "source": [
    "# angle encoding kernel \n",
    "\n",
    "def angle_encoding(x, sigma=\"y\"):\n",
    "\n",
    "    n_qubits = len(x)\n",
    "\n",
    "    features = QuantumRegister(n_qubits,\"feature\")\n",
    "    qc = QuantumCircuit(features)\n",
    "    \n",
    "    for i in range(len(x)):\n",
    "        angle = 2*x[i]\n",
    "        if sigma == \"y\":\n",
    "            qc.ry(angle, features[i])\n",
    "        if sigma == \"x\":\n",
    "            qc.rx(angle, features[i])\n",
    "        if sigma == \"z\":\n",
    "            qc.rz(angle, features[i])\n",
    "\n",
    "    return qc"
   ]
  },
  {
   "cell_type": "code",
   "execution_count": 122,
   "metadata": {},
   "outputs": [],
   "source": [
    "from qiskit.circuit import Parameter,ParameterVector\n",
    "from qiskit import *\n",
    "import numpy as np"
   ]
  },
  {
   "cell_type": "code",
   "execution_count": 123,
   "metadata": {},
   "outputs": [
    {
     "data": {
      "image/png": "[encoded data removed]",
      "text/plain": [
       "<Figure size 290.423x200.667 with 1 Axes>"
      ]
     },
     "execution_count": 123,
     "metadata": {},
     "output_type": "execute_result"
    }
   ],
   "source": [
    "\n",
    "n_qubits = 2\n",
    "p = ParameterVector('p', n_qubits)\n",
    "\n",
    "encoding_circuit = angle_encoding(p, sigma=\"x\")\n",
    "\n",
    "\n",
    "encoding_circuit.draw('mpl')\n"
   ]
  },
  {
   "cell_type": "markdown",
   "metadata": {},
   "source": [
    "Let $X = \\{[1.0,1.0,1.0,1.0,1.0], [10.0,5.0,10.0,5.0,10.0], [1.0,1.0,1.0,1.0,1.0], [10.0,5.0,10.0,5.0,10.0]\\}$ be an hypothetical dataset"
   ]
  },
  {
   "cell_type": "code",
   "execution_count": 124,
   "metadata": {},
   "outputs": [],
   "source": [
    "X = np.array([[1.0,1.0,1.0,1.0,1.0], [10.0,5.0,10.0,5.0,10.0], [1.0,1.0,1.0,1.0,1.0], [10.0,5.0,10.0,5.0,10.0]])\n",
    "\n",
    "# define the quantum data encoding \n",
    "\n",
    "n_qubits = 5\n",
    "p = ParameterVector('p', n_qubits)\n",
    "\n",
    "encoding_circuit = angle_encoding(p, sigma=\"x\")\n",
    "\n",
    "# define the kernel object \n",
    "\n",
    "kernel = FidelityQuantumKernel(feature_map=encoding_circuit, fidelity=None, enforce_psd=True, evaluate_duplicates='off_diagonal', max_circuits_per_job=None)\n",
    "\n"
   ]
  },
  {
   "cell_type": "markdown",
   "metadata": {},
   "source": [
    "#### Evaluate the kernel on the dataset:\n"
   ]
  },
  {
   "cell_type": "code",
   "execution_count": 125,
   "metadata": {},
   "outputs": [
    {
     "name": "stdout",
     "output_type": "stream",
     "text": [
      "[[1.         0.10443521 1.         0.10443521]\n",
      " [0.10443521 1.         0.10443521 1.        ]\n",
      " [1.         0.10443521 1.         0.10443521]\n",
      " [0.10443521 1.         0.10443521 1.        ]]\n"
     ]
    }
   ],
   "source": [
    "kernel_matrix = kernel.evaluate(X,X)\n",
    "\n",
    "print(kernel_matrix)"
   ]
  },
  {
   "cell_type": "markdown",
   "metadata": {},
   "source": [
    "## 5. SVM's with Quantum Kernels for ad_hoc_dataset <a id=\"qke_ad_hoc\"></a>\n",
    "\n",
    "Consider the ad_hoc_dataset from the previous lecture with 10 features and two classes. \n",
    "\n",
    "Use the quantum kernel estimator in quantum qSVM algorithm to classify the data and compare with classical kernels\n",
    "\n"
   ]
  },
  {
   "cell_type": "markdown",
   "metadata": {},
   "source": [
    "Qiskit also provides a quantum support vector classifier algorithm - the QSVC algorithm that extends the classical SVC algorithm from sklearn to use quantum kernels. \n"
   ]
  },
  {
   "cell_type": "code",
   "execution_count": 126,
   "metadata": {},
   "outputs": [
    {
     "name": "stdout",
     "output_type": "stream",
     "text": [
      "1.0\n"
     ]
    }
   ],
   "source": [
    "from qiskit_machine_learning.algorithms import QSVC\n",
    "\n",
    "qsvc = QSVC(quantum_kernel=kernel)\n",
    "\n",
    "Y = [0,1,0,1]\n",
    "\n",
    "qsvc.fit(X, Y)\n",
    "\n",
    "qsvc_score = qsvc.score(X, Y)\n",
    "\n",
    "print(qsvc_score)\n",
    "\n"
   ]
  },
  {
   "cell_type": "code",
   "execution_count": 127,
   "metadata": {},
   "outputs": [
    {
     "name": "stdout",
     "output_type": "stream",
     "text": [
      "1.0\n",
      "1.0\n"
     ]
    }
   ],
   "source": [
    "#or using directly sklearn SVC\n",
    "\n",
    "from sklearn.svm import SVC\n",
    "\n",
    "svc = SVC(kernel='precomputed')\n",
    "\n",
    "svc.fit(kernel_matrix, Y)\n",
    "\n",
    "svc_score = svc.score(kernel_matrix, Y)\n",
    "\n",
    "print(svc_score)\n",
    "\n",
    "\n",
    "#or using directly sklearn SVC without the kernel matrix\n",
    "\n",
    "svc = SVC(kernel=kernel.evaluate)\n",
    "\n",
    "svc.fit(X, Y)\n",
    "\n",
    "svc_score = svc.score(X, Y)\n",
    "\n",
    "print(svc_score)\n",
    "\n"
   ]
  },
  {
   "cell_type": "code",
   "execution_count": 79,
   "metadata": {},
   "outputs": [],
   "source": [
    "#import ad_hoc_data from sklearn\n",
    "from sklearn.datasets import make_classification\n",
    "\n",
    "\n",
    "# generate the training and testing datasets\n",
    "n_features = 4\n",
    "n_samples = 100\n",
    "n_classes = 2\n",
    "\n",
    "#train data and test data\n",
    "training_features, training_labels = make_classification(n_samples=n_samples, n_features=n_features, n_informative=n_features, n_redundant=0, n_clusters_per_class=1, n_classes=n_classes)\n",
    "test_features, test_labels = make_classification(n_samples=n_samples, n_features=n_features, n_informative=n_features, n_redundant=0, n_clusters_per_class=1, n_classes=n_classes)\n",
    "\n",
    "\n",
    "\n",
    "#normalize the data\n",
    "from sklearn.preprocessing import MinMaxScaler\n",
    "\n",
    "scaler = MinMaxScaler()\n",
    "training_features = scaler.fit_transform(training_features)\n",
    "test_features = scaler.transform(test_features)\n",
    "\n"
   ]
  },
  {
   "cell_type": "markdown",
   "metadata": {},
   "source": [
    "#### 5.1 - Example for amplitude encoding - estimating the kernel matrix by hand <a id=\"qke_ad_hoc_amplitude_encoding\"></a>"
   ]
  },
  {
   "cell_type": "code",
   "execution_count": 143,
   "metadata": {},
   "outputs": [],
   "source": [
    "from qiskit import *\n",
    "from qiskit.primitives import Sampler,Estimator\n",
    "import numpy as np\n",
    "\n",
    "def execute_circuit(qc, shots=1024, seed=None, binary=False , primitive=\"sampler\", observable=None):\n",
    "    \n",
    "    if primitive == \"estimator\":\n",
    "        options = {\"shots\": shots, \"seed\": seed}\n",
    "        estimator = Estimator(options=options)\n",
    "    \n",
    "        job = estimator.run(qc, observable)\n",
    "        result = job.result()  \n",
    "        \n",
    "        return result\n",
    "    \n",
    "    elif primitive == \"sampler\":\n",
    "        options = {\"shots\": shots, \"seed\": seed}\n",
    "        sampler = Sampler(options=options)\n",
    "    \n",
    "        job = sampler.run(qc)\n",
    "        result = job.result()  \n",
    "        \n",
    "        probability_dictionary = result.quasi_dists[0]\n",
    "\n",
    "        if binary:\n",
    "            return probability_dictionary.binary_probabilities()\n",
    "        else:\n",
    "            return probability_dictionary\n",
    "    \n",
    "\n",
    "def inversion_test(psi, phi, n_qubits=1, shots=1024):\n",
    "    \n",
    "    qr=QuantumRegister(n_qubits)\n",
    "    qc = QuantumCircuit(qr)\n",
    "\n",
    "    qc = qc.compose(psi,qr)\n",
    "    qc = qc.compose(phi,qr)\n",
    "    qc.measure_all()\n",
    "\n",
    "    probs = execute_circuit(qc, shots=1024, seed=None, binary=False , primitive=\"sampler\", observable=None)\n",
    "    \n",
    "    overlap = probs.get(0)\n",
    "    \n",
    "\n",
    "    return overlap"
   ]
  },
  {
   "cell_type": "code",
   "execution_count": 144,
   "metadata": {},
   "outputs": [
    {
     "data": {
      "image/png": "[encoded data removed]",
      "text/plain": [
       "<Figure size 454.517x200.667 with 1 Axes>"
      ]
     },
     "execution_count": 144,
     "metadata": {},
     "output_type": "execute_result"
    }
   ],
   "source": [
    "#example of how to use the statepreparation circuit \n",
    "\n",
    "#prepare amplitude encoding with normalized vector\n",
    "a = StatePreparation(training_features[0],normalize=True)\n",
    "\n",
    "qc = QuantumCircuit(2)\n",
    "qc = qc.compose(a)\n",
    "\n",
    "\n",
    "qc.decompose().decompose().decompose().decompose().draw('mpl')\n"
   ]
  },
  {
   "cell_type": "code",
   "execution_count": 145,
   "metadata": {},
   "outputs": [
    {
     "data": {
      "image/png": "[encoded data removed]",
      "text/plain": [
       "<Figure size 538.128x200.667 with 1 Axes>"
      ]
     },
     "execution_count": 145,
     "metadata": {},
     "output_type": "execute_result"
    }
   ],
   "source": [
    "#prepare amplitude encoding with inverted circuit (add flag inverse=True) for doing the inversion test and then obtain the kernel\n",
    "a = StatePreparation(training_features[0],normalize=True,inverse=True)\n",
    "\n",
    "qc = QuantumCircuit(2)\n",
    "qc = qc.compose(a)\n",
    "\n",
    "qc.decompose().decompose().decompose().decompose().draw('mpl')\n",
    "\n"
   ]
  },
  {
   "cell_type": "code",
   "execution_count": 148,
   "metadata": {},
   "outputs": [],
   "source": [
    "def kernel_f(x,y,n_qubits=2):\n",
    "\n",
    "    a = StatePreparation(x,normalize=True)\n",
    "\n",
    "    #invert the circuit for the second point\n",
    "    b = StatePreparation(y,normalize=True,inverse=True)\n",
    "    \n",
    "    return inversion_test(a,b,n_qubits=2)\n",
    "    "
   ]
  },
  {
   "cell_type": "code",
   "execution_count": 149,
   "metadata": {},
   "outputs": [
    {
     "name": "stdout",
     "output_type": "stream",
     "text": [
      "x0 - [0.82390767 0.41318809 0.77823148 0.34918762] , x1 - [0.8405172  0.55935834 0.76168461 0.26738176]\n"
     ]
    },
    {
     "data": {
      "text/plain": [
       "0.986328125"
      ]
     },
     "execution_count": 149,
     "metadata": {},
     "output_type": "execute_result"
    }
   ],
   "source": [
    "print(\"x0 - {} , x1 - {}\".format(training_features[0],training_features[1]))\n",
    "\n",
    "kernel_f(training_features[0],training_features[1])"
   ]
  },
  {
   "cell_type": "markdown",
   "metadata": {},
   "source": [
    "##### kernel matrix"
   ]
  },
  {
   "cell_type": "code",
   "execution_count": 107,
   "metadata": {},
   "outputs": [],
   "source": [
    "def kernel_matrix(X,Y, set_diagonal_one=True):\n",
    "\n",
    "        n = len(X)\n",
    "        m = len(Y)\n",
    "        \n",
    "        K = np.zeros((n,m))\n",
    "        \n",
    "        #use symmetry of the kernel to estimate just half the matrix\n",
    "        for i in range(n):\n",
    "            K[i,i]=1.0\n",
    "            for j in range(i+1,m):\n",
    "\n",
    "                K[i,j] = kernel_f(X[i],Y[j])\n",
    "                K[j,i] = K[i,j]\n",
    "        \n",
    "        return K"
   ]
  },
  {
   "cell_type": "code",
   "execution_count": 109,
   "metadata": {},
   "outputs": [],
   "source": [
    "kernel_matrix_amplitude_encoding = kernel_matrix(training_features[:10],training_features[:10])"
   ]
  },
  {
   "cell_type": "markdown",
   "metadata": {},
   "source": [
    "##### use the precomputed kernel in SVC \n",
    "\n"
   ]
  },
  {
   "cell_type": "code",
   "execution_count": 111,
   "metadata": {},
   "outputs": [
    {
     "name": "stdout",
     "output_type": "stream",
     "text": [
      "0.8\n"
     ]
    }
   ],
   "source": [
    "# use the precomputed kernel in SVC \n",
    "\n",
    "from sklearn.svm import SVC\n",
    "\n",
    "svc = SVC(kernel='precomputed')\n",
    "\n",
    "svc.fit(kernel_matrix_amplitude_encoding, training_labels[:10])\n",
    "\n",
    "svc_score = svc.score(kernel_matrix_amplitude_encoding, training_labels[:10])\n",
    "\n",
    "print(svc_score)"
   ]
  },
  {
   "cell_type": "markdown",
   "metadata": {},
   "source": [
    "### 5.2 example using the PauliKernel <a id=\"qke_ad_hoc_pauli_kernel\"></a>"
   ]
  },
  {
   "cell_type": "code",
   "execution_count": 128,
   "metadata": {},
   "outputs": [
    {
     "data": {
      "image/png": "[encoded data removed]",
      "text/plain": [
       "<Figure size 287.496x367.889 with 1 Axes>"
      ]
     },
     "execution_count": 128,
     "metadata": {},
     "output_type": "execute_result"
    }
   ],
   "source": [
    "from qiskit.circuit.library import PauliFeatureMap\n",
    "\n",
    "qc_pauli_f = PauliFeatureMap(feature_dimension=4, reps=1, paulis=[\"Z\"], entanglement=\"linear\")\n",
    "\n",
    "qc_pauli_f.decompose().draw(output=\"mpl\")"
   ]
  },
  {
   "cell_type": "code",
   "execution_count": 130,
   "metadata": {},
   "outputs": [],
   "source": [
    "#kernel\n",
    "kernel = FidelityQuantumKernel(feature_map=qc_pauli_f, fidelity=None, enforce_psd=True, evaluate_duplicates='off_diagonal', max_circuits_per_job=None)\n"
   ]
  },
  {
   "cell_type": "code",
   "execution_count": 131,
   "metadata": {},
   "outputs": [
    {
     "name": "stdout",
     "output_type": "stream",
     "text": [
      "0.8\n"
     ]
    }
   ],
   "source": [
    "qsvc = QSVC(quantum_kernel=kernel)\n",
    "\n",
    "qsvc.fit(training_features[:10], training_labels[:10])\n",
    "\n",
    "qsvc_score = qsvc.score(training_features[:10], training_labels[:10])\n",
    "\n",
    "print(qsvc_score)"
   ]
  },
  {
   "cell_type": "markdown",
   "metadata": {},
   "source": [
    "### 5.3 - Example using the IQP encoding <a id=\"qke_iqp_encoding\"></a>"
   ]
  },
  {
   "cell_type": "code",
   "execution_count": 138,
   "metadata": {},
   "outputs": [
    {
     "data": {
      "image/png": "[encoded data removed]",
      "text/plain": [
       "<Figure size 2210.55x1204 with 1 Axes>"
      ]
     },
     "execution_count": 138,
     "metadata": {},
     "output_type": "execute_result"
    }
   ],
   "source": [
    "from qiskit.circuit.library import PauliFeatureMap, ZZFeatureMap\n",
    "\n",
    "qc_iqp = PauliFeatureMap(feature_dimension=4, reps=2, paulis=[\"Z\",\"ZZ\"], entanglement=\"full\")\n",
    "#same as ZZFeatureMap\n",
    "#qc_pauli_f = ZZFeatureMap(feature_dimension=4, reps=2, entanglement=\"full\")\n",
    "\n",
    "qc_iqp.decompose().draw(output=\"mpl\")"
   ]
  },
  {
   "cell_type": "code",
   "execution_count": 139,
   "metadata": {},
   "outputs": [],
   "source": [
    "#kernel\n",
    "kernel = FidelityQuantumKernel(feature_map=qc_iqp, fidelity=None, enforce_psd=True, evaluate_duplicates='off_diagonal', max_circuits_per_job=None)\n"
   ]
  },
  {
   "cell_type": "code",
   "execution_count": 140,
   "metadata": {},
   "outputs": [
    {
     "name": "stdout",
     "output_type": "stream",
     "text": [
      "1.0\n"
     ]
    }
   ],
   "source": [
    "qsvc = QSVC(quantum_kernel=kernel)\n",
    "\n",
    "qsvc.fit(training_features[:10], training_labels[:10])\n",
    "\n",
    "qsvc_score = qsvc.score(training_features[:10], training_labels[:10])\n",
    "\n",
    "print(qsvc_score)"
   ]
  },
  {
   "cell_type": "markdown",
   "metadata": {},
   "source": [
    "## 6 - Caveats <a id=\"caveats\"></a>\n",
    "\n",
    "- Quantum kernels are not guaranteed to outperform classical kernels - classical simulation hardness does not imply usefulness of the encoding in solving a task.\n",
    "- Expressivity of the kernel is important same as in VQC - Trainable kernels (kernel alignment) can be used to improve performance (see [2])\n",
    "- Tradeoff between expressivity and kernel estimation - Vanishing similarity problem similar to barren plateaus in (VQC see [3])\n"
   ]
  },
  {
   "cell_type": "markdown",
   "metadata": {},
   "source": [
    "## 7 - References <a id=\"references\"></a>\n",
    "\n",
    "* [1] - Mohri, Mehryar et al. “Foundations of Machine Learning.” Adaptive computation and machine learning (2012).\n",
    "* [2] - Incudini,M et.al Automatic and effective discovery of quantum kernels https://arxiv.org/abs/2209.11144\n",
    "* [3] - Thanasilp, S et.al Exponential concentration in quantum kernel methods https://arxiv.org/abs/2208.11060"
   ]
  }
 ],
 "metadata": {
  "interpreter": {
   "hash": "62314c999a2395b70c6666201aadb026cfae52075e045b8f587202e06e575832"
  },
  "kernelspec": {
   "display_name": "Python 3.10.1 ('quantum_DS')",
   "language": "python",
   "name": "python3"
  },
  "language_info": {
   "codemirror_mode": {
    "name": "ipython",
    "version": 3
   },
   "file_extension": ".py",
   "mimetype": "text/x-python",
   "name": "python",
   "nbconvert_exporter": "python",
   "pygments_lexer": "ipython3",
   "version": "3.9.19"
  },
  "orig_nbformat": 4
 },
 "nbformat": 4,
 "nbformat_minor": 2
}
