{
 "cells": [
  {
   "cell_type": "markdown",
   "id": "80accddc",
   "metadata": {},
   "source": [
    "# Lecture 3 - Introduction to Neural Networks with Scikit-Learn\n",
    "#### Quantum Data Science 23/24"
   ]
  },
  {
   "cell_type": "markdown",
   "id": "c42868df",
   "metadata": {},
   "source": [
    "\n",
    "### Table of Contents\n",
    "\n",
    "1. [Shallow Neural Networks](#shallow_neural_networks)\n",
    "    - [Perceptron](#perceptron)\n",
    "    - [Multi-Layer Perceptron](#multi_layer_perceptron)\n",
    "    - [Gradient-based learning](#gradient_based_learning)\n",
    "    - [Interactive Demo: Gradient Descent](#interactive_demo_gradient_descent)\n",
    "    - [Activation Functions](#activation_functions)\n",
    "2. [Deep Neural Networks](#deep_neural_networks)\n",
    "    - [MLPs with multiple layers](#hidden_layers)\n",
    "    - [Backpropagation](#backpropagation)\n",
    "    - [Neural network playground](#neural_network_playground)\n",
    "3. [Simple Neural Network regressor with Scikit-learn](#building_nn)\n",
    "    - [Sklearn overview](#sklearn_overview)\n",
    "    - [Datasets](#dataset_overview)\n",
    "    - [MLPs in sklearn](#mlp_sklearn)\n",
    "    - [Model selection and evaluation](#model_selection_and_evaluation)\n",
    "4. [Hands-On Exercise : MLP classifier for Iris dataset](#hands_on_exercise)\n",
    "\n",
    "5. [Homework](#homework)\n",
    "   \n",
    "6. [References](#references)\n",
    "\n",
    "\n"
   ]
  },
  {
   "cell_type": "markdown",
   "id": "f0aa5023",
   "metadata": {},
   "source": [
    "<a id='shallow_neural_networks'></a>\n",
    "##  1. Shallow Neural Networks   "
   ]
  },
  {
   "cell_type": "markdown",
   "id": "39a498f6",
   "metadata": {},
   "source": [
    "### 1.1 Perceptron <a id='perceptron'></a>"
   ]
  },
  {
   "cell_type": "markdown",
   "id": "d0917d0b",
   "metadata": {},
   "source": [
    "<img title=\"a title\" alt=\"Alt text\" src=\"images/neuron_vs_perceptron.png\">\n",
    "\n",
    "The perceptron is the artificial realization of a biological neuron. It takes a set of inputs, multiplies them by a set of weights, and then passes them through an *heaviside step function*. \n",
    "\n",
    "$$\n",
    "\\begin{equation}\n",
    "    \\hat{y} = \\begin{cases}\n",
    "        1 & \\text{if } \\sum_{i=1}^{n} w_i x_i + b \\geq 0 \\\\\n",
    "        0 & \\text{otherwise}    \n",
    "    \\end{cases}\n",
    "\\end{equation}\n",
    "$$"
   ]
  },
  {
   "cell_type": "markdown",
   "id": "e923d588",
   "metadata": {},
   "source": [
    "### 1.2 Multi Layer Perceptron <a id='mlp'></a>\n",
    "The single perceptron is a linear classifier, which means that it can only classify linearly separable data. Marvin Minsky and Seymour Papert showed in 1969 that a single perceptron cannot learn an XOR function.\n",
    "\n",
    "<img title=\"a title\" alt=\"Alt text\" src=\"images/xor_problem.png\">\n",
    "\n",
    "However, a single perceptron can learn the AND and OR functions. Therefore, it is possible to combine multiple perceptrons to create a multi-layer perceptron (MLP) (illustrated in Figure 13.1 (b) ) that can learn non-linear functions. \n",
    "\n",
    "Image source: [Probabilistic Machine Learning: An Introduction, Kevin P. Murphy](https://probml.github.io/pml-book/book1.html)"
   ]
  },
  {
   "cell_type": "markdown",
   "id": "5e70fe16",
   "metadata": {},
   "source": [
    "### 1.3 Gradient-based learning <a id='gradient_based_learning'></a>\n",
    "\n",
    "Goal: Learn optimal weights $\\theta$ and bias $b$ for a given task. For instance, minimizing the error of our prediction.\n",
    "\n",
    "In a supervised scenario, for instance, a classification task, let $y$ be the true label and $\\hat{y}$ the predicted label coming from our model. We can define the error (*loss*) as the difference between the true label and the predicted label:\n",
    "\n",
    "$$\n",
    "\\begin{equation}\n",
    "    L(\\theta) = (y - \\hat{y})^2\n",
    "\\end{equation}\n",
    "$$\n",
    "\n",
    "Suppose a training set of $M$ samples, we can define the *least squares cost function* as the average loss over all samples:\n",
    "\n",
    "$$\n",
    "\\begin{equation}\n",
    "    C(\\theta) = \\frac{1}{M} \\sum_{i=1}^{M} L(\\theta)\n",
    "\\end{equation}\n",
    "$$\n",
    "\n",
    "Now we minimize the cost function $C(\\theta)$ with respect to the weights $\\theta$ and bias $b$ using standard *gradient descent*.\n"
   ]
  },
  {
   "cell_type": "markdown",
   "id": "5b815532",
   "metadata": {},
   "source": [
    "### 1.4 Interactive demo on gradient descent <a id='interactive_demo_gradient_descent'></a>\n"
   ]
  },
  {
   "cell_type": "code",
   "execution_count": 1,
   "id": "4a42cdda",
   "metadata": {},
   "outputs": [
    {
     "data": {
      "application/vnd.jupyter.widget-view+json": {
       "model_id": "ae1c5007b0dc4b90aa26f2f354029e32",
       "version_major": 2,
       "version_minor": 0
      },
      "text/plain": [
       "interactive(children=(FloatSlider(value=0.0, description='Starting Point:', max=10.0, min=-10.0), FloatSlider(…"
      ]
     },
     "metadata": {},
     "output_type": "display_data"
    },
    {
     "data": {
      "text/plain": [
       "<function __main__.plot_gradient_descent(starting_point, learning_rate, show_tangent_only)>"
      ]
     },
     "execution_count": 1,
     "metadata": {},
     "output_type": "execute_result"
    }
   ],
   "source": [
    "import numpy as np\n",
    "import matplotlib.pyplot as plt\n",
    "from ipywidgets import interact, FloatSlider, Checkbox\n",
    "\n",
    "# Define the loss function and its derivative\n",
    "def loss_function(x):\n",
    "    return x ** 2\n",
    "\n",
    "def derivative(x):\n",
    "    return 2 * x\n",
    "\n",
    "# Gradient descent function\n",
    "def gradient_descent(starting_point, learning_rate, num_steps=10):\n",
    "    x = starting_point\n",
    "    path = [x]\n",
    "    for _ in range(num_steps):\n",
    "        grad = derivative(x)\n",
    "        x = x - learning_rate * grad\n",
    "        path.append(x)\n",
    "    return np.array(path)\n",
    "\n",
    "# Function to plot tangent line\n",
    "def plot_tangent_line(ax, x, y, grad):\n",
    "    tangent_line_x = np.array([x - 1, x + 1])\n",
    "    tangent_line_y = y + grad * (tangent_line_x - x)\n",
    "    ax.plot(tangent_line_x, tangent_line_y, color='purple')\n",
    "\n",
    "# Interactive plot function\n",
    "def plot_gradient_descent(starting_point, learning_rate, show_tangent_only):\n",
    "    path = gradient_descent(starting_point, learning_rate)\n",
    "    x_values = np.linspace(-10, 10, 400)\n",
    "    y_values = loss_function(x_values)\n",
    "\n",
    "    plt.figure(figsize=(10, 6))\n",
    "    plt.plot(x_values, y_values, label='Loss Function', color='darkblue')\n",
    "    \n",
    "    if show_tangent_only:\n",
    "        initial_grad = derivative(starting_point)\n",
    "        plot_tangent_line(plt, starting_point, loss_function(starting_point), initial_grad)\n",
    "        plt.scatter(starting_point, loss_function(starting_point), color='purple', label='Starting Point')\n",
    "    else:\n",
    "        plt.scatter(path, loss_function(path), color='purple', label='Gradient Descent Path')\n",
    "        plt.plot(path, loss_function(path), color='purple', linestyle='dashed')\n",
    "    \n",
    "    plt.title(f\"Gradient Descent: Learning Rate {learning_rate}, Starting Point {starting_point}\")\n",
    "    plt.xlabel(\"Parameter Value\")\n",
    "    plt.ylabel(\"Loss\")\n",
    "    plt.legend()\n",
    "    plt.grid(True)\n",
    "    plt.show()\n",
    "\n",
    "# Create interactive controls\n",
    "interact(plot_gradient_descent, \n",
    "         starting_point=FloatSlider(value=0, min=-10, max=10, step=0.1, description='Starting Point:'),\n",
    "         learning_rate=FloatSlider(value=0, min=0.0, max=1.0, step=0.01, description='Learning Rate:'),\n",
    "         show_tangent_only=Checkbox(value=False, description='Show Only Tangent Line'))\n"
   ]
  },
  {
   "cell_type": "markdown",
   "id": "43fe99c3",
   "metadata": {},
   "source": [
    "What is the problem with the heavi-side step function? \n",
    "\n",
    "\n",
    "\n",
    "It is not differentiable. Therefore, we cannot use gradient descent to optimize the weights and bias."
   ]
  },
  {
   "cell_type": "markdown",
   "id": "6745faa5",
   "metadata": {},
   "source": [
    "### 1.5 Activation Functions <a id='activation_functions'></a>\n",
    "\n"
   ]
  },
  {
   "cell_type": "markdown",
   "id": "79a28bba",
   "metadata": {},
   "source": [
    "There are several activation functions , and their use depends on the type of problem you are trying to solve.  The most common activation functions are:\n",
    "- *Sigmoid function*:\n",
    "$$\n",
    "\n",
    "    \\sigma(x) = \\frac{1}{1 + e^{-x}}\n",
    "\n",
    "$$\n",
    "- *Hyperbolical tangent function*:\n",
    "$$\n",
    "    \n",
    "        \\tanh(x) = \\frac{e^{x} - e^{-x}}{e^{x} + e^{-x}}\n",
    "$$\n",
    "- *Rectified Linear Unit (ReLU)*:\n",
    "$$\n",
    "    \n",
    "        \\text{ReLU}(x) = \\max(0, x)\n",
    "$$\n",
    "- *Gaussian Error Linear Unit (GELU)*:\n",
    "$$\n",
    "    \n",
    "        \\text{GELU}(x) = x \\cdot \\Phi(x)\n",
    "$$"
   ]
  },
  {
   "cell_type": "code",
   "execution_count": 39,
   "id": "d74a3e84",
   "metadata": {},
   "outputs": [
    {
     "data": {
      "image/png": "[encoded data removed]",
      "text/plain": [
       "<Figure size 864x576 with 1 Axes>"
      ]
     },
     "metadata": {
      "needs_background": "light"
     },
     "output_type": "display_data"
    }
   ],
   "source": [
    "import numpy as np\n",
    "import matplotlib.pyplot as plt\n",
    "from scipy.stats import norm\n",
    "\n",
    "# Defining the activation functions\n",
    "def sigmoid(x):\n",
    "    return 1 / (1 + np.exp(-x))\n",
    "\n",
    "def relu(x):\n",
    "    return np.maximum(0, x)\n",
    "\n",
    "def gelu(x):\n",
    "    # Using the approximation of GELU\n",
    "    return 0.5 * x * (1 + np.tanh(np.sqrt(2 / np.pi) * (x + 0.044715 * np.power(x, 3))))\n",
    "\n",
    "def tanh(x):\n",
    "    return np.tanh(x)\n",
    "\n",
    "# Generate a range of values\n",
    "x = np.linspace(-10, 10, 300)\n",
    "\n",
    "# Plotting\n",
    "plt.figure(figsize=(12, 8))\n",
    "\n",
    "plt.plot(x, sigmoid(x), label='Sigmoid')\n",
    "plt.plot(x, tanh(x), label='Tanh')\n",
    "plt.plot(x, relu(x), label='ReLU')\n",
    "plt.plot(x, gelu(x), label='GELU')\n",
    "\n",
    "plt.title('Activation Functions')\n",
    "plt.xlabel('Input value (x)')\n",
    "plt.ylabel('Activation Function Output')\n",
    "#truncate y axis to zoom in on the plot\n",
    "plt.ylim([-1, 1.2])\n",
    "plt.legend()\n",
    "plt.grid(True)\n",
    "plt.show()\n",
    "\n"
   ]
  },
  {
   "cell_type": "markdown",
   "id": "83d30bef",
   "metadata": {},
   "source": [
    "- *Sigmoid function*\n",
    "  - Characteristics: Smooth gradient, output values between 0 and 1. Vanishing gradient problem since the gradient is close to zero for large positive and negative inputs.\n",
    "  - Common Use Cases: Used in binary classification problems and models where probabilities are required.\n",
    "\n",
    "- *Hyperbolic Tangent (tanh) Function*:\n",
    "  - Characteristics: Similar to sigmoid but outputs values between -1 and 1.\n",
    "  - Common Use Cases: Often used in hidden layers of a neural network.\n",
    "\n",
    "- *Rectified Linear Unit (ReLU)*:\n",
    "  - Characteristics: Efficient and simple, output is zero when input is negative.\n",
    "  - Common Use Cases: Widely used in most types of neural networks.\n",
    "\n",
    "- *Gaussian Error Linear Unit (GELU)*:\n",
    "  - Characteristics: Non-monotonic, provides a smoother curve than ReLU.\n",
    "  - Common Use Cases: Effective in transformer models and deep learning architectures such as BERT or GPT-3."
   ]
  },
  {
   "cell_type": "markdown",
   "id": "cc8c839c",
   "metadata": {},
   "source": [
    "<a id='deep_neural_networks'></a>\n",
    "##  2. Deep Neural Networks   "
   ]
  },
  {
   "cell_type": "markdown",
   "id": "78952ba9",
   "metadata": {},
   "source": [
    "### 2.1 MLPs with multiple layers <a id='hidden_layers'></a>\n",
    "\n",
    "Deep Neural networks are neural networks with multiple hidden layers. The hidden layers are the layers between the input and output layers.\n",
    "\n",
    "<img title=\"a title\" alt=\"Alt text\" src=\"images/deep_neural_network.png\">\n",
    "\n",
    "The motivation comes from the *universal approximation theorem*: \"The approximation properties of two-layer feed-forward networks were widely studied in the 1980s, with various theorems showing that, for a wide range of activation functions, such networks can approximate any function defined over a continuous subset of $\\mathbb{R}^N$ to arbitrary accuracy. A similar result holds for functions from any finite-dimensional discrete space to any another. Neural networks are therefore said to be *universal approximators*.\" - [Deep Learning: Foundations and concepts, Christopher M. Bishop](https://en.wikipedia.org/wiki/Universal_approximation_theorem)"
   ]
  },
  {
   "cell_type": "markdown",
   "id": "4e35fac0",
   "metadata": {},
   "source": [
    "### 2.2 Backpropagation <a id='backpropagation'></a>\n"
   ]
  },
  {
   "cell_type": "markdown",
   "id": "f84a9cb4",
   "metadata": {},
   "source": [
    "MLP's are efficiently trained using the *backpropagation* algorithm. Backpropagation is one of the main responsibles for the success and scalability of neural networks!\n",
    "\n",
    "Let us assume the computation graph is a simple chain. In this case, backpropagation is equivalent to repeated applications of the chain rule of calculus. The method can be further generalized to arbitrary directed acyclic graphs (DAGs). This general procedure is often called automatic differentiation.\n",
    "\n",
    "<img title=\"a title\" alt=\"Alt text\" src=\"images/backprop.png\">\n",
    "\n"
   ]
  },
  {
   "cell_type": "markdown",
   "id": "78fb6ebb",
   "metadata": {},
   "source": [
    "### 2.3 Neural Network playground <a id='neural_network_playground'></a>\n"
   ]
  },
  {
   "cell_type": "markdown",
   "id": "d446eff6",
   "metadata": {},
   "source": [
    "You can use this website to visualize small networks in action: https://playground.tensorflow.org/\n",
    "\n",
    "<img title=\"a title\" alt=\"Alt text\" src=\"images/neural_network_visualization.png\">\n",
    "\n"
   ]
  },
  {
   "cell_type": "markdown",
   "id": "6dd7067b",
   "metadata": {},
   "source": [
    "## 3. Scikit-learn introduction <a id='sklearn_intro'></a>"
   ]
  },
  {
   "cell_type": "markdown",
   "id": "7de3aa4d",
   "metadata": {},
   "source": [
    "### 3.1 Overview <a id='sklearn_overview'></a>"
   ]
  },
  {
   "cell_type": "markdown",
   "id": "a872c989",
   "metadata": {},
   "source": [
    "Scikit-learn is a Python library for machine learning. It features various classification, regression and clustering algorithms including support vector machines, random forests, gradient boosting, k-means... \n",
    "It is designed to interoperate with the Python numerical and scientific libraries NumPy and SciPy. Website: [Sklearn](https://scikit-learn.org/stable/index.html)\n",
    "\n",
    "Installing scikit-learn: Follow the instructions for your operating system: [installation instructions](https://scikit-learn.org/stable/install.html)\n",
    "\n",
    "\n",
    "Loose yourself in the [user guide](https://scikit-learn.org/stable/user_guide.html)"
   ]
  },
  {
   "cell_type": "code",
   "execution_count": 2,
   "id": "f64da870",
   "metadata": {},
   "outputs": [],
   "source": [
    "#import sklearn\n",
    "import numpy as np\n",
    "import sklearn"
   ]
  },
  {
   "cell_type": "markdown",
   "id": "5231b9de",
   "metadata": {},
   "source": [
    "### 3.2 Data preprocessing <a id='data_preprocessing'></a>\n",
    "*Standardization* of datasets is a common requirement for many machine learning estimators. They might behave badly if the individual features do not more or less look like standard normally distributed data: Gaussian with zero mean and unit variance.\n",
    "\n",
    "*Normalization* is the process of scaling individual samples to have unit norm. \n",
    "\n",
    "check the [preprocessing](https://scikit-learn.org/stable/modules/classes.html#module-sklearn.preprocessing) module.\n",
    "\n",
    "```python\n",
    "from sklearn import preprocessing"
   ]
  },
  {
   "cell_type": "code",
   "execution_count": 5,
   "id": "9e546057",
   "metadata": {},
   "outputs": [
    {
     "name": "stdout",
     "output_type": "stream",
     "text": [
      "original data: \n",
      " [[0.11225215 0.29813684 0.23836323 0.94690446]\n",
      " [0.00535524 0.21629515 0.82088381 0.28638381]\n",
      " [0.89607219 0.20528652 0.84157539 0.95232764]\n",
      " [0.6638018  0.13944958 0.03585917 0.36428801]\n",
      " [0.40593906 0.89517098 0.53945412 0.52125251]\n",
      " [0.23223125 0.7559975  0.18454211 0.62417802]\n",
      " [0.64208035 0.61292171 0.75977667 0.66673735]\n",
      " [0.54478461 0.05130011 0.05391845 0.75693341]\n",
      " [0.95189801 0.06845214 0.66919227 0.85593146]\n",
      " [0.39332908 0.50277069 0.96418209 0.1056092 ]]\n",
      "trasnformed data: \n",
      " [[-1.24538649 -0.26978864 -0.81617646  1.24267243]\n",
      " [-1.6027557  -0.55863724  0.92912277 -1.17967112]\n",
      " [ 1.37501795 -0.59749064  0.99111715  1.262561  ]\n",
      " [ 0.59851017 -0.82985276 -1.42290211 -0.89397111]\n",
      " [-0.26355591  1.8373585   0.08592678 -0.31833136]\n",
      " [-0.84428195  1.34616548 -0.97743078  0.05912987]\n",
      " [ 0.52589275  0.84119979  0.74603869  0.21520872]\n",
      " [ 0.20062141 -1.14096379 -1.36879443  0.54598694]\n",
      " [ 1.56165036 -1.08042815  0.47463733  0.9090449 ]\n",
      " [-0.30571259  0.45243746  1.35846104 -1.84263027]]\n",
      "mean of original data: \n",
      " [0.48477437 0.37457812 0.51077473 0.60805459]\n",
      "variance of original data: \n",
      " [0.08947384 0.08028023 0.11139937 0.07435349]\n",
      "mean of transformed data: \n",
      " [ 2.05391260e-16 -1.49880108e-16 -4.44089210e-17 -2.22044605e-17]\n",
      "variance of transformed data: \n",
      " [1. 1. 1. 1.]\n"
     ]
    }
   ],
   "source": [
    "from sklearn import preprocessing\n",
    "\n",
    "#random dataset of 4 features and 10 samples\n",
    "n_features = 4\n",
    "n_samples = 10\n",
    "X_train = np.random.rand(n_samples, n_features)\n",
    "\n",
    "#scaler\n",
    "scaler = preprocessing.StandardScaler().fit(X_train)\n",
    "\n",
    "#apply transformation to data\n",
    "X_scaled = scaler.transform(X_train)\n",
    "\n",
    "print(\"original data: \\n\",X_train)\n",
    "print(\"trasnformed data: \\n\", X_scaled)\n",
    "\n",
    "#mean and variance of original data\n",
    "print(\"mean of original data: \\n\", X_train.mean(axis=0))\n",
    "print(\"variance of original data: \\n\", X_train.var(axis=0))\n",
    "\n",
    "#mean and variance of transformed data\n",
    "print(\"mean of transformed data: \\n\", X_scaled.mean(axis=0))\n",
    "print(\"variance of transformed data: \\n\", X_scaled.var(axis=0))"
   ]
  },
  {
   "cell_type": "markdown",
   "id": "3cb47065",
   "metadata": {},
   "source": [
    "Alternatively, you can scale features in a given range [a,b] using the MinMaxScaler:\n",
    "\n",
    "```python\n",
    "from sklearn.preprocessing import MinMaxScaler\n"
   ]
  },
  {
   "cell_type": "code",
   "execution_count": 8,
   "id": "87be8377",
   "metadata": {},
   "outputs": [
    {
     "name": "stdout",
     "output_type": "stream",
     "text": [
      "original data: \n",
      " [[0.58148623 0.4561312  0.06281271 0.51324215]\n",
      " [0.1989165  0.3797083  0.09847171 0.15467541]\n",
      " [0.90569144 0.09308921 0.1529186  0.81191041]\n",
      " [0.51728816 0.62707886 0.33892491 0.41309734]\n",
      " [0.62651624 0.08947567 0.64773504 0.30764438]\n",
      " [0.48060529 0.51322155 0.82397198 0.85331273]\n",
      " [0.48353039 0.22466495 0.60574824 0.89750607]\n",
      " [0.62920835 0.82206099 0.04519121 0.53234268]\n",
      " [0.3180721  0.55581015 0.68180548 0.95144873]\n",
      " [0.95847713 0.9555326  0.29844434 0.75329707]]\n",
      "trasnformed data: \n",
      " [[0.5036724  0.42336193 0.02262704 0.45002352]\n",
      " [0.         0.33511958 0.06841528 0.        ]\n",
      " [0.93050497 0.00417241 0.13832827 0.82487075]\n",
      " [0.4191524  0.6207481  0.37717123 0.32433557]\n",
      " [0.5629567  0.         0.77370148 0.19198555]\n",
      " [0.37085754 0.48928179 1.         0.87683322]\n",
      " [0.37470858 0.15609745 0.71978796 0.93229861]\n",
      " [0.56650099 0.84588587 0.         0.47399588]\n",
      " [0.15687437 0.53845707 0.81744991 1.        ]\n",
      " [1.         1.         0.32519182 0.75130736]]\n"
     ]
    }
   ],
   "source": [
    "#random dataset of 4 features and 10 samples\n",
    "n_features = 4\n",
    "n_samples = 10\n",
    "X_train = np.random.rand(n_samples, n_features)\n",
    "\n",
    "#scaler\n",
    "min_max_scaler = preprocessing.MinMaxScaler(feature_range=(0, 1))\n",
    "\n",
    "#apply transformation to data\n",
    "X_train_minmax = min_max_scaler.fit_transform(X_train)\n",
    "\n",
    "print(\"original data: \\n\",X_train)\n",
    "print(\"trasnformed data: \\n\", X_train_minmax)"
   ]
  },
  {
   "cell_type": "markdown",
   "id": "e9e00ad7",
   "metadata": {},
   "source": [
    "The function **normalize** provides a quick and easy way to perform this operation on a single array-like dataset, either using the l1, l2, or max norms"
   ]
  },
  {
   "cell_type": "code",
   "execution_count": 13,
   "id": "4762e317",
   "metadata": {},
   "outputs": [
    {
     "name": "stdout",
     "output_type": "stream",
     "text": [
      "original data: \n",
      " [[ 1.90868503  2.66878134 -0.57110765  0.86298683]\n",
      " [ 2.30478971  0.15236036 -0.9910287   2.14633325]\n",
      " [ 0.84195874  0.05023406 -2.00695383 -3.02143438]\n",
      " [ 1.40132169  1.27167487  2.43612366 -0.1484076 ]\n",
      " [ 1.47420437  2.84651466  2.3380975  -1.99779208]\n",
      " [ 1.76128945  1.5771476   3.01290034 -1.21427866]\n",
      " [-1.12404814  1.21893559 -1.6504425   1.57941341]\n",
      " [ 2.21550318 -3.12170207  0.43846183 -1.30449841]\n",
      " [-3.04551879 -1.48805156 -2.1010544  -0.44633715]\n",
      " [ 1.47724961 -0.04710816 -2.68950567 -0.44025956]\n",
      " [ 3.07700436  1.57296414  0.89377057 -0.86953478]\n",
      " [-2.27927204  1.86375174  0.71269452  0.08853915]\n",
      " [ 2.23508412 -0.65755867  2.84846868  0.97534247]\n",
      " [ 2.86469138 -1.41005212  1.34541179 -2.94053196]\n",
      " [-0.91543707  0.01054119 -0.58201865 -1.13834702]\n",
      " [-1.15212192  2.45666358  2.36830631  0.3196577 ]\n",
      " [ 0.81996345  0.03150381  2.08756388 -2.16669936]\n",
      " [ 1.74368551  1.26790812 -1.40492239  2.12023691]\n",
      " [ 1.80624906  1.04836492  2.44396689 -0.40043915]\n",
      " [-0.89460886  1.26801215  2.0048487  -1.35816658]\n",
      " [-1.62470633 -0.4313554  -0.69316224 -2.84048421]\n",
      " [-1.77844764 -0.29306289  1.01889408 -1.17751581]\n",
      " [ 0.58231129 -1.11301304  1.45143714 -1.29938225]\n",
      " [ 0.57561635  1.65344745  0.45764782  1.08925906]\n",
      " [ 2.26155546 -2.51349854 -0.092258    1.12989176]\n",
      " [-0.04030939  0.97902222 -1.67143833  1.50167022]\n",
      " [-0.90225329  2.13716779 -2.05997439  0.97736881]\n",
      " [ 0.57390496 -0.92389211 -2.62406916 -2.68713634]\n",
      " [ 1.70316059 -1.8904668  -1.01928409 -1.98104372]\n",
      " [ 0.1476416  -0.16210913  0.97579577  2.44901231]\n",
      " [-2.19674728  2.85669434  2.50994714 -2.21105948]\n",
      " [-3.09430515  0.38012175  2.21638409 -0.79698199]\n",
      " [-2.54966107 -2.99218075 -0.80254646  2.66918004]\n",
      " [-0.09239919 -0.41393566  2.38824857  1.87226862]\n",
      " [-1.79297974 -2.11893341  2.03120611 -3.1174472 ]\n",
      " [ 2.11527567 -2.52689215  1.95525659  2.93602958]\n",
      " [-1.03105059 -2.10628219 -0.60765891 -1.93527317]\n",
      " [ 3.08767197  2.18222976 -0.40438914 -1.92969299]\n",
      " [-2.13378882  2.58638856  1.6660494   0.3236371 ]\n",
      " [-0.81439697  2.47544356 -2.16926936  2.73032186]\n",
      " [ 3.04390907  1.81291706 -2.41663419 -1.94996547]\n",
      " [-1.19799532 -0.92195411 -1.7450461   1.19260238]\n",
      " [-1.67376309 -3.13741221 -0.75393722 -0.37222802]\n",
      " [-1.46994701  1.29729666 -2.39516775 -1.43305972]\n",
      " [ 2.13309031 -0.073887    0.79377347 -1.9912392 ]\n",
      " [-1.85222327  2.20937395 -2.73417139 -1.26361154]\n",
      " [-1.75186677 -2.6509396  -0.41060273 -0.14336823]\n",
      " [-0.95619206 -2.63225663 -1.15901141 -0.76828001]\n",
      " [ 2.02530447  0.25550144  2.90326678  0.09899868]\n",
      " [ 2.2633746   0.59971832  2.95306516 -1.99207409]\n",
      " [ 1.62966314 -1.6655842   2.35504882 -0.65775264]\n",
      " [ 3.05408526 -2.65452566  2.03239138 -1.88169127]\n",
      " [ 1.32766194 -0.60235096 -2.10218366 -0.46832596]\n",
      " [ 1.69038452 -0.24783014 -3.02039354  2.97834965]\n",
      " [ 0.33724455 -1.96221787  1.9915929  -0.48847386]\n",
      " [-0.7565344  -1.84182812  2.8445579  -2.78096027]\n",
      " [ 0.97043239 -2.67331251 -0.88410176  3.0678708 ]\n",
      " [ 0.17088696  1.18773249  0.23473043  0.67333476]\n",
      " [ 2.762424   -1.42236984 -0.53844005 -0.55229715]\n",
      " [ 2.11186406  1.47056174  1.61399774  1.34664386]\n",
      " [-0.49366297  1.32566791  0.69323675  0.98949761]\n",
      " [-1.54866682 -2.41789742 -2.53449074  0.69906741]\n",
      " [ 2.36534808  2.43568182  0.46562524 -0.43598355]\n",
      " [ 2.51851649 -1.28155901  1.26456939  2.28559453]\n",
      " [ 0.63003312  2.1144332  -1.92879825 -2.9085871 ]\n",
      " [-1.8186705  -1.85598842  1.15467218  2.32822294]\n",
      " [ 0.28825618  1.80749167 -1.9852706   1.77068313]\n",
      " [-2.63699966  2.54108128  2.4438812   0.43906765]\n",
      " [-1.06436547 -0.94567821 -2.78106909 -0.10261614]\n",
      " [-1.25188557  0.98486168  1.32862336  3.05661218]\n",
      " [ 1.69405971 -0.90087578  0.93956083  3.08828639]\n",
      " [ 1.57222795  1.74580681 -1.11275221  1.12972885]\n",
      " [ 2.80444862  2.93240726  0.8854887  -1.86317171]\n",
      " [ 1.42291507  2.63999092 -0.12131283  1.3644673 ]\n",
      " [-0.05703147  1.482298   -3.06863275  2.63865792]\n",
      " [-2.58830002  1.29230449  2.72164893  1.89467954]\n",
      " [-0.82067579 -2.48146119  1.48793069  2.74940334]\n",
      " [ 0.96684424 -1.12984182 -2.23234872  3.03069254]\n",
      " [ 0.55691693 -1.51543848  1.53348911 -0.25975301]\n",
      " [ 1.6133766   0.78537468  0.39049688  2.55256717]\n",
      " [ 0.33387487  2.52921795  1.6169041   2.25495415]\n",
      " [-0.89870326 -2.39934652 -2.41018087 -0.6372235 ]\n",
      " [-0.72127382 -2.60144132 -0.9281153  -0.70740531]\n",
      " [ 2.73784845 -2.47720747  1.42676824  0.03948887]\n",
      " [-1.54012281 -2.34198671  0.09191818  2.52241179]\n",
      " [-2.5604173  -3.02218308  0.2737788  -1.31181739]\n",
      " [ 0.58529004 -0.16765924 -0.63875831 -1.69628864]\n",
      " [ 1.70953027  0.7484672  -2.11725985  2.03617358]\n",
      " [-1.36120224  0.12052912 -0.79382226 -0.82934506]\n",
      " [ 0.27634291 -2.73224562  1.73125792  2.5628225 ]\n",
      " [ 0.47956987 -0.10982306  0.20001671 -1.03157535]\n",
      " [ 2.53391783 -2.62790883 -0.19408433 -2.64492379]\n",
      " [-1.23345233 -1.48499354 -2.65795107 -0.52290093]\n",
      " [ 0.82062056 -0.84947658  2.77053542  0.70511149]\n",
      " [-1.84223689 -1.21446119  2.15240549 -1.10183943]\n",
      " [ 2.38376318 -2.1384214   2.94604367 -0.04862485]\n",
      " [-2.95214236  1.34895098  2.63166025 -0.89927019]\n",
      " [ 2.75785356 -2.94482551  1.29739441  2.76080685]\n",
      " [ 1.94205951  0.96448134  2.28234003  2.17182048]\n",
      " [-2.65247982  2.01587742  1.66974271  3.00264539]]\n",
      "trasnformed data: \n",
      " [[ 0.55478508  0.77571733 -0.16600015  0.25083877]\n",
      " [ 0.69732849  0.04609758 -0.29984191  0.6493865 ]\n",
      " [ 0.22608849  0.01348919 -0.5389209  -0.81133612]\n",
      " [ 0.45375214  0.41177211  0.7888241  -0.04805482]\n",
      " [ 0.33185806  0.64077874  0.52632898 -0.44972285]\n",
      " [ 0.4383871   0.39255397  0.74991458 -0.30223544]\n",
      " [-0.39821336  0.43182887 -0.5846976   0.55953433]\n",
      " [ 0.54463674 -0.76740744  0.10778699 -0.3206846 ]\n",
      " [-0.75893775 -0.37081974 -0.52357894 -0.11122641]\n",
      " [ 0.47648863 -0.01519479 -0.86750327 -0.14200625]\n",
      " [ 0.83754483  0.42815279  0.24327977 -0.23668291]\n",
      " [-0.75209066  0.61498156  0.23516758  0.02921523]\n",
      " [ 0.58710254 -0.17272476  0.74822383  0.25619888]\n",
      " [ 0.63037845 -0.3102835   0.29605933 -0.64706725]\n",
      " [-0.5821587   0.00670351 -0.37012618 -0.723915  ]\n",
      " [-0.31863996  0.67943432  0.65499754  0.08840706]\n",
      " [ 0.2629244   0.01010182  0.66938531 -0.6947604 ]\n",
      " [ 0.5229614   0.38026755 -0.42136049  0.63589567]\n",
      " [ 0.55755518  0.32361057  0.7544067  -0.12360805]\n",
      " [-0.31104434  0.440872    0.69706087 -0.47221757]\n",
      " [-0.48173424 -0.12789922 -0.20552637 -0.84221899]\n",
      " [-0.74665065 -0.12303741  0.42776516 -0.49435976]\n",
      " [ 0.25121691 -0.48016878  0.62616948 -0.56057096]\n",
      " [ 0.27252712  0.78282919  0.2166746   0.51571266]\n",
      " [ 0.63417161 -0.70481996 -0.02587043  0.31683737]\n",
      " [-0.01644415  0.39939041 -0.68186035  0.61260375]\n",
      " [-0.27738288  0.65703697 -0.63330513  0.30047591]\n",
      " [ 0.1467726  -0.23627962 -0.67108925 -0.68721828]\n",
      " [ 0.50359192 -0.55897477 -0.30138275 -0.58575663]\n",
      " [ 0.05581159 -0.06128061  0.36887104  0.92577746]\n",
      " [-0.44678304  0.58100565  0.51048285 -0.44969391]\n",
      " [-0.79193541  0.09728577  0.56724627 -0.20397415]\n",
      " [-0.52908784 -0.62091643 -0.16653883  0.55388958]\n",
      " [-0.03015494 -0.13508998  0.77941691  0.61102426]\n",
      " [-0.38624469 -0.45646181  0.43756355 -0.67156221]\n",
      " [ 0.43818977 -0.52345816  0.40504103  0.60821299]\n",
      " [-0.3325274  -0.67930375 -0.195978   -0.62415108]\n",
      " [ 0.72409793  0.51176034 -0.09483434 -0.45253729]\n",
      " [-0.56779185  0.68822666  0.44332844  0.08611841]\n",
      " [-0.18707464  0.56863266 -0.49830157  0.62718061]\n",
      " [ 0.64611323  0.38481757 -0.51296516 -0.41390805]\n",
      " [-0.46101715 -0.35478992 -0.67153533  0.45894182]\n",
      " [-0.45806157 -0.8586209  -0.20633127 -0.10186827]\n",
      " [-0.43095627  0.38033897 -0.70221072 -0.42014172]\n",
      " [ 0.70515311 -0.02442543  0.26240419 -0.65826023]\n",
      " [-0.44423481  0.52989336 -0.6557601  -0.30306294]\n",
      " [-0.54624169 -0.82657755 -0.12802819 -0.044703  ]\n",
      " [-0.30580904 -0.84184749 -0.37067467 -0.24571107]\n",
      " [ 0.5704314   0.07196253  0.8177114   0.02788319]\n",
      " [ 0.53095937  0.14068642  0.69275215 -0.46731567]\n",
      " [ 0.48247698 -0.49311175  0.69723418 -0.19473381]\n",
      " [ 0.62282477 -0.54134191  0.41446901 -0.38373648]\n",
      " [ 0.51048751 -0.23160462 -0.80829198 -0.18007186]\n",
      " [ 0.36964601 -0.05419443 -0.66048666  0.65129268]\n",
      " [ 0.11799356 -0.68653171  0.69680931 -0.17090497]\n",
      " [-0.17006174 -0.41402544  0.63942956 -0.62513341]\n",
      " [ 0.22696335 -0.62523054 -0.20677247  0.71750927]\n",
      " [ 0.12242528  0.85090449  0.16816344  0.48238435]\n",
      " [ 0.86287535 -0.44429381 -0.16818803 -0.17251646]\n",
      " [ 0.63556876  0.44256783  0.48573512  0.40527455]\n",
      " [-0.2653649   0.71260304  0.37264432  0.53189717]\n",
      " [-0.39778856 -0.62105802 -0.65100603  0.17956155]\n",
      " [ 0.68469393  0.70505333  0.13478387 -0.12620354]\n",
      " [ 0.65447155 -0.33303094  0.32861595  0.59394354]\n",
      " [ 0.1525906   0.51210425 -0.46714448 -0.70444402]\n",
      " [-0.49486679 -0.50502113  0.31419046  0.63351785]\n",
      " [ 0.08926977  0.55976033 -0.61481652  0.54836113]\n",
      " [-0.59599952  0.5743206   0.552352    0.09923555]\n",
      " [-0.34048485 -0.30251743 -0.8896492  -0.03282636]\n",
      " [-0.33890133  0.26661457  0.35967523  0.82746377]\n",
      " [ 0.45112089 -0.23989938  0.25020105  0.82239751]\n",
      " [ 0.55468053  0.61591899 -0.39257793  0.39856727]\n",
      " [ 0.61611026  0.64422154  0.19453331 -0.40932082]\n",
      " [ 0.43156844  0.8007061  -0.03679404  0.4138413 ]\n",
      " [-0.01323116  0.34388934 -0.71191494  0.61216188]\n",
      " [-0.5881508   0.29365604  0.61845226  0.43053637]\n",
      " [-0.20140078 -0.60897156  0.36515077  0.67472682]\n",
      " [ 0.23889228 -0.27916646 -0.55157888  0.7488373 ]\n",
      " [ 0.24842145 -0.67598487  0.68403663 -0.11586686]\n",
      " [ 0.51307879  0.24976133  0.12418407  0.81175597]\n",
      " [ 0.08857745  0.67100491  0.42896682  0.59824236]\n",
      " [-0.25139603 -0.67117393 -0.67420464 -0.17825178]\n",
      " [-0.24524679 -0.88453943 -0.31557682 -0.24053123]\n",
      " [ 0.6916406  -0.62579697  0.36043297  0.00997576]\n",
      " [-0.40830538 -0.6208893   0.02436863  0.66872219]\n",
      " [-0.61231671 -0.72274671  0.06547344 -0.3137175 ]\n",
      " [ 0.30609991 -0.08768384 -0.3340632  -0.88713932]\n",
      " [ 0.49122224  0.21506711 -0.60838065  0.58508105]\n",
      " [-0.76268112  0.06753242 -0.44477833 -0.46468174]\n",
      " [ 0.06681337 -0.66059424  0.4185784   0.61963162]\n",
      " [ 0.41332974 -0.09465385  0.17238959 -0.88908999]\n",
      " [ 0.56157056 -0.58240099 -0.04301325 -0.58617187]\n",
      " [-0.37081028 -0.44643061 -0.79905446 -0.15719865]\n",
      " [ 0.26529561 -0.27462437  0.89567689  0.22795307]\n",
      " [-0.56277678 -0.37100036  0.65752881 -0.33659604]\n",
      " [ 0.54778588 -0.49140664  0.67699726 -0.01117393]\n",
      " [-0.69068225  0.31560012  0.61570236 -0.21039296]\n",
      " [ 0.54524931 -0.58221513  0.25650507  0.5458332 ]\n",
      " [ 0.50777874  0.2521772   0.59674987  0.56785298]\n",
      " [-0.55424625  0.42122564  0.34889941  0.62741474]]\n"
     ]
    }
   ],
   "source": [
    "n_features = 4\n",
    "n_samples = 100\n",
    "X_train = np.random.uniform(low=-np.pi, high=np.pi, size=(n_samples, n_features))\n",
    "\n",
    "X_normalized = preprocessing.normalize(X_train, norm='l2')\n",
    "\n",
    "print(\"original data: \\n\",X_train)\n",
    "print(\"trasnformed data: \\n\", X_normalized)"
   ]
  },
  {
   "cell_type": "code",
   "execution_count": 14,
   "id": "98d5e590",
   "metadata": {},
   "outputs": [
    {
     "data": {
      "text/plain": [
       "[<matplotlib.lines.Line2D at 0x12fbf7790>]"
      ]
     },
     "execution_count": 14,
     "metadata": {},
     "output_type": "execute_result"
    },
    {
     "data": {
      "image/png": "[encoded data removed]",
      "text/plain": [
       "<Figure size 432x288 with 1 Axes>"
      ]
     },
     "metadata": {
      "needs_background": "light"
     },
     "output_type": "display_data"
    }
   ],
   "source": [
    "import matplotlib.pyplot as plt\n",
    "\n",
    "plt.plot(X_train[:,0], X_train[:,1], 'o', label='Original data', markersize=10)\n",
    "plt.plot(X_normalized[:,0], X_normalized[:,1], '^', label='Normalized data', markersize=10)"
   ]
  },
  {
   "cell_type": "markdown",
   "id": "03dec3c8",
   "metadata": {},
   "source": [
    "### 3.3 Datasets  <a id='datasets'></a>\n"
   ]
  },
  {
   "cell_type": "markdown",
   "id": "945a1cca",
   "metadata": {},
   "source": [
    "Scikit-learn provides a set of small standard datasets that are useful for quickly demonstrating the behavior of the various algorithms implemented in the library. They are documented in the Datasets section [Sklearn datasets](https://scikit-learn.org/stable/modules/classes.html#module-sklearn.datasets)\n",
    "\n",
    "You can even make you artificial datasets using the make_* functions [make random datasets sklearn](https://scikit-learn.org/stable/modules/classes.html#samples-generator)\n"
   ]
  },
  {
   "cell_type": "code",
   "execution_count": 16,
   "id": "9a241878",
   "metadata": {},
   "outputs": [
    {
     "name": "stdout",
     "output_type": "stream",
     "text": [
      "X:  [[-0.25491451 -0.29751544  0.35568067 -0.89177874]\n",
      " [ 0.50752216  0.75279448 -0.67335583 -0.32885298]\n",
      " [ 0.42690471  0.62789176 -0.56755096 -0.20678075]\n",
      " [ 0.66449425  1.04865513 -0.86795439 -1.25716079]\n",
      " [ 0.89821962  1.35766586 -1.1862163  -0.9145978 ]\n",
      " [-0.79334814 -1.18075855  1.05170746  0.56659116]\n",
      " [-0.59737958 -0.93445385  0.78208639  1.0215184 ]\n",
      " [ 1.02749846  1.51958519 -1.36420576 -0.60706516]\n",
      " [-0.49496531 -0.86614234  0.62808434  2.05151108]\n",
      " [ 1.36978281  1.83703128 -1.85957932  1.66630153]\n",
      " [ 0.36184805  0.49608262 -0.4888926   0.29848486]\n",
      " [ 0.50544418  0.69720281 -0.68198289  0.36114198]\n",
      " [ 0.15721461  0.09831767 -0.23782548  1.66697962]\n",
      " [ 0.49766037  0.66255687 -0.67666386  0.66914175]\n",
      " [ 0.96230705  1.30462028 -1.30335341  0.98623378]\n",
      " [-0.72886578 -1.08743714  0.96565163  0.55528271]\n",
      " [-0.22378872 -0.32674363  0.29803861  0.07685635]\n",
      " [ 0.6368057   1.03303876 -0.82570029 -1.57303407]\n",
      " [-0.92654555 -1.24860999  1.25654985 -1.04830646]\n",
      " [ 0.64758136  0.91050668 -0.87002694  0.23657791]\n",
      " [ 1.33939544  1.79385849 -1.8188509   1.66107318]\n",
      " [ 0.7687288   1.00549089 -1.04912471  1.26903854]\n",
      " [ 0.40601104  0.45905367 -0.56971539  1.61458707]\n",
      " [ 0.24417565  0.30876535 -0.33554057  0.54229677]\n",
      " [-1.42096687 -1.87030408  1.93673372 -2.19244362]\n",
      " [-0.99259571 -1.5967369   1.28994827  2.27523037]\n",
      " [-0.38297807 -0.61755038  0.4973876   0.8971885 ]\n",
      " [ 0.67334518  1.03922432 -0.88458818 -0.96703806]\n",
      " [-0.9093532  -1.43534538  1.18772719  1.72398043]\n",
      " [ 0.98436878  1.41564664 -1.31564787 -0.05498245]\n",
      " [ 0.3443057   0.44047926 -0.47203188  0.69782837]\n",
      " [-0.46551645 -0.75099383  0.60450719  1.09514733]\n",
      " [ 0.45648516  0.59422636 -0.62360776  0.79098726]\n",
      " [-0.67645527 -0.87256317  0.92584663 -1.27716595]\n",
      " [ 0.84107901  1.29903877 -1.10474035 -1.22023654]\n",
      " [ 0.97407076  1.39201321 -1.3037971   0.0613118 ]\n",
      " [ 0.70210905  1.13589938 -0.91104129 -1.69400814]\n",
      " [-0.7786173  -1.04563728  1.05672045 -0.92847994]\n",
      " [-0.68022686 -0.87375457  0.93180514 -1.33246507]\n",
      " [-0.51503389 -0.69515634  0.69823351 -0.56831347]\n",
      " [-0.28271206 -0.37198338  0.38535544 -0.43787791]\n",
      " [-1.0814379  -1.63867645  1.42729656  1.15459627]\n",
      " [ 0.7889216   1.15862863 -1.04920883 -0.35960296]\n",
      " [ 1.23027127  1.81856999 -1.63362144 -0.71507163]\n",
      " [ 0.38434808  0.59891788 -0.50368534 -0.62706509]\n",
      " [ 0.80355895  1.18980224 -1.06657752 -0.49318446]\n",
      " [ 1.9541259   2.59496981 -2.65844574  2.71458886]\n",
      " [-1.07708433 -1.53106339  1.4434509  -0.17485423]\n",
      " [-0.50191643 -0.76251167  0.66200909  0.56170615]\n",
      " [ 1.03445316  1.53515579 -1.37229368 -0.68048778]\n",
      " [ 0.71097381  1.14629259 -0.92340004 -1.66361239]\n",
      " [-1.53121714 -2.12897888  2.06238142 -0.87322384]\n",
      " [-1.06937917 -1.39595835  1.46004097 -1.80182896]\n",
      " [-0.90599149 -1.44122562  1.18091116  1.86431471]\n",
      " [ 0.27987762  0.53900759 -0.34447265 -1.80590394]\n",
      " [ 0.96911781  1.48215248 -1.27609091 -1.21398163]\n",
      " [ 0.90183384  1.19301551 -1.22786979  1.31271527]\n",
      " [-1.39938762 -2.00722868  1.87147897  0.00908204]\n",
      " [-0.09780974 -0.13163923  0.13268289 -0.11287814]\n",
      " [-1.5497236  -2.12349374  2.09407525 -1.29317053]\n",
      " [ 1.23081749  1.8127192  -1.63579024 -0.62806831]\n",
      " [-0.39875346 -0.63863794  0.5188188   0.87709339]\n",
      " [-0.64114552 -0.98225874  0.84386279  0.8254573 ]\n",
      " [-0.38890824 -0.47341838  0.53841016 -1.10458244]\n",
      " [ 0.06708576 -0.06873195 -0.12548013  2.16293751]\n",
      " [ 0.71183149  1.08206576 -0.93873811 -0.80516497]\n",
      " [-0.19200518 -0.16947432  0.2797449  -1.38800788]\n",
      " [-0.92383934 -1.2171194   1.25891627 -1.41040785]\n",
      " [-0.35542838 -0.48192849  0.4813795  -0.36339198]\n",
      " [ 1.49070577  1.99488188 -2.02467768  1.87006392]\n",
      " [-1.32782075 -1.86453591  1.78444925 -0.51649656]\n",
      " [ 0.32754507  0.40942632 -0.45113718  0.78989944]\n",
      " [ 1.16207088  1.64003596 -1.55991112  0.34386218]\n",
      " [-0.55192769 -0.75583327  0.74589175 -0.46633178]\n",
      " [-0.63069233 -0.98422045  0.82620724  1.04775492]\n",
      " [-0.83025253 -1.11666816  1.12643262 -0.96791858]\n",
      " [ 1.66885132  2.21781397 -2.26998781  2.29635871]\n",
      " [-0.77032667 -1.18011912  1.01389924  0.99111958]\n",
      " [-0.06364429 -0.09008953  0.08537509 -0.01531722]\n",
      " [-0.7534679  -1.03465093  1.01764793 -0.59963361]\n",
      " [-1.15502852 -1.62400068  1.55177948 -0.42173073]\n",
      " [ 0.32933898  0.55296856 -0.42297428 -1.05888703]\n",
      " [ 2.02977796  2.70885862 -2.75845386  2.64358837]\n",
      " [-0.96444852 -1.30233663  1.30737834 -1.05645316]\n",
      " [-1.03111981 -1.53665034  1.36647521  0.76277157]\n",
      " [-0.8452686  -1.28882733  1.11385998  1.00753172]\n",
      " [ 1.67659929  2.25912159 -2.27380353  1.90031881]\n",
      " [ 1.52254342  2.03970688 -2.06743842  1.88089618]\n",
      " [ 0.40045496  0.65141337 -0.51885372 -1.01264353]\n",
      " [-0.7640093  -0.99872295  1.04281273 -1.26904908]\n",
      " [ 1.04346095  1.39644343 -1.41721418  1.30808013]\n",
      " [ 0.67513851  0.88900886 -0.92011077  1.03672348]\n",
      " [ 0.75673101  1.18640056 -0.99012737 -1.32916284]\n",
      " [ 0.2266407   0.46442689 -0.27288998 -1.8289069 ]\n",
      " [-1.39720069 -1.93666919  1.88317145 -0.87516332]\n",
      " [ 0.87833262  1.33724366 -1.15786359 -1.02073708]\n",
      " [-0.47628467 -0.7400047   0.62463913  0.74853327]\n",
      " [ 0.94271302  1.2235218  -1.2886382   1.68135823]\n",
      " [ 0.28735819  0.48101856 -0.36937503 -0.90472151]\n",
      " [-0.98105465 -1.43443317  1.3061122   0.36368479]]\n",
      "y:  [0 1 1 1 1 0 0 1 0 1 1 1 0 1 1 0 0 0 0 1 1 1 0 1 0 0 0 1 0 1 1 0 1 0 1 1 1\n",
      " 0 0 0 1 0 1 1 1 1 1 0 0 1 1 0 0 0 1 1 1 0 0 0 1 0 0 0 0 1 0 0 0 1 0 1 1 0\n",
      " 0 0 1 0 1 0 0 1 1 0 0 0 1 1 1 0 1 1 1 1 0 0 0 1 1 0]\n"
     ]
    }
   ],
   "source": [
    "from sklearn.datasets import make_classification\n",
    "\n",
    "n_features = 4\n",
    "n_samples = 100\n",
    "n_classes = 2\n",
    "\n",
    "#make classification dataset acn be used to generate a random dataset for classification problem with n_classes [0,1,..,n_classes-1]\n",
    "\n",
    "X, y = make_classification(n_features=n_features, n_samples=n_samples, n_classes=n_classes)\n",
    "\n",
    "print(\"X: \", X)\n",
    "print(\"y: \", y)"
   ]
  },
  {
   "cell_type": "markdown",
   "id": "b534c481",
   "metadata": {},
   "source": [
    "Recall that data should be split into training and test sets. \n",
    "\n",
    "Sklearn provides a [train_test_split](https://scikit-learn.org/stable/modules/generated/sklearn.model_selection.train_test_split.html) function to do this."
   ]
  },
  {
   "cell_type": "code",
   "execution_count": 17,
   "id": "5b9159de",
   "metadata": {},
   "outputs": [
    {
     "name": "stdout",
     "output_type": "stream",
     "text": [
      "X_train shape:  (70, 4)\n",
      "X_test shape:  (30, 4)\n",
      "y_train shape:  (70,)\n",
      "y_test shape:  (30,)\n"
     ]
    }
   ],
   "source": [
    "from sklearn.model_selection import train_test_split\n",
    "\n",
    "# 0.7 / 0.3 train-test random split\n",
    "X_train, X_test, y_train, y_test = train_test_split(\n",
    "    X, y, test_size=0.3)\n",
    "\n",
    "print(\"X_train shape: \", X_train.shape)\n",
    "print(\"X_test shape: \", X_test.shape)\n",
    "print(\"y_train shape: \", y_train.shape)\n",
    "print(\"y_test shape: \", y_test.shape)"
   ]
  },
  {
   "cell_type": "markdown",
   "id": "94a9881d",
   "metadata": {},
   "source": [
    "### 3.4 MLPs in sklearn <a id=\"mlp_sklearn\"></a>\n",
    "\n",
    "Sklearn provides Multi-layer Perceptrons for classification and regression tasks. \n",
    "\n",
    "*Classification* - Class MLPClassifier implements a multi-layer perceptron (MLP) algorithm that trains using Backpropagation. You can define number of layers, number of neurons per layer, activation function, solver, learning rate, regularization, etc. [MLPClassifier](https://scikit-learn.org/stable/modules/generated/sklearn.neural_network.MLPClassifier.html#sklearn.neural_network.MLPClassifier). The cost-function, however, is the *cross-entropy loss function*. For n_classes=2 :\n",
    "\n",
    "$$\n",
    "\\begin{equation}\n",
    "    C(\\theta) = - \\frac{1}{M} \\sum_{i=1}^{M} \\left[ y_i \\log(\\hat{y}_i) + (1 - y_i) \\log(1 - \\hat{y}_i) \\right]\n",
    "\\end{equation}\n",
    "$$\n",
    "\n",
    "where $y_i$ is the true label and $\\hat{y}_i$ the predicted label for sample $i$.\n",
    "\n",
    "It supports multi-class classification by applying Softmax as the output function.\n",
    "\n",
    "*Regression* - Class MLPRegressor implements a multi-layer perceptron (MLP) that trains using backpropagation with no activation function in the output layer, which can also be seen as using the identity function as activation function. Therefore, it uses the square error as the loss function, and the output is a set of continuous values. [MLPRegressor](https://scikit-learn.org/stable/modules/generated/sklearn.neural_network.MLPRegressor.html#sklearn.neural_network.MLPRegressor)"
   ]
  },
  {
   "cell_type": "code",
   "execution_count": 19,
   "id": "87cf1fc2",
   "metadata": {},
   "outputs": [
    {
     "name": "stderr",
     "output_type": "stream",
     "text": [
      "/opt/homebrew/Caskroom/miniforge/base/envs/quantum_DS/lib/python3.10/site-packages/sklearn/neural_network/_multilayer_perceptron.py:686: ConvergenceWarning: Stochastic Optimizer: Maximum iterations (100) reached and the optimization hasn't converged yet.\n",
      "  warnings.warn(\n"
     ]
    }
   ],
   "source": [
    "#Classifier for the randomly generated dataset\n",
    "\n",
    "from sklearn.neural_network import MLPClassifier\n",
    "\n",
    "n_features = 4\n",
    "n_samples = 100\n",
    "n_classes = 2\n",
    "\n",
    "#make classification dataset \n",
    "X, y = make_classification(n_features=n_features, n_samples=n_samples, n_classes=n_classes)\n",
    "\n",
    "#split dataset\n",
    "X_train, X_test, y_train, y_test = train_test_split(\n",
    "    X, y, test_size=0.3)\n",
    "\n",
    "'''\n",
    "Number of Hidden Layers: The length of the tuple defines the number of hidden layers. For example, hidden_layer_sizes=(100, 50, 30) means there are three hidden layers with 100, 50, and 30 neurons, respectively.\n",
    "'''\n",
    "hidden_layer_sizes = (10,10)\n",
    "\n",
    "clf = MLPClassifier(solver='adam', alpha=1e-5,\n",
    "                    hidden_layer_sizes=hidden_layer_sizes,\n",
    "                    activation='relu', max_iter=100)\n",
    "\n",
    "clf = clf.fit(X, y)"
   ]
  },
  {
   "cell_type": "markdown",
   "id": "06695c92",
   "metadata": {},
   "source": [
    "### 3.5 Model selection and evaluation <a id=\"model_selection_and_evaluation\"></a>\n",
    "\n",
    "We trained the model but there is much more we need to do to guarantee that the model is effectively good and that it will generalize well to unseen data. \n",
    "\n",
    "We need to evaluate the model and select the best one.\n",
    "\n",
    "*Cross-validation* - Split data in several folds and train the model on each fold. This is a way to use all the data for training and testing. [Cross-validation](https://scikit-learn.org/stable/modules/cross_validation.html)\n",
    "\n",
    "*Grid search* - Notice that we didn't select the best hyperparameters. We could actually be starting optimization in worst possible point of the training ladscape. Hyperparameter tuning can be started with some sorte of [*Grid search*](https://scikit-learn.org/stable/modules/generated/sklearn.model_selection.GridSearchCV.html#sklearn.model_selection.GridSearchCV). You can also use software like [Optuna](https://optuna.org/) to do this automatically for you.\n",
    "\n",
    "- *Evaluation metrics* - We need to evaluate the model on unseen data. Most common metrics are \n",
    "    - *accuracy* - number of correct predictions divided by the total number of predictions.\n",
    "    - *precision* - The precision is the ratio tp / (tp + fp) where tp is the number of true positives and fp the number of false positives. The precision is intuitively the ability of the classifier not to label as positive a sample that is negative.\n",
    "    - *recall* - The recall is the ratio tp / (tp + fn) where tp is the number of true positives and fn the number of false negatives. The recall is intuitively the ability of the classifier to find all the positive samples.\n",
    "    - *F1-score* - The F1 score can be interpreted as a harmonic mean of the precision and recall, where an F1 score reaches its best value at 1 and worst score at 0. The relative contribution of precision and recall to the F1 score are equal.\n",
    "    \n",
    "Check the [Metrics](https://scikit-learn.org/stable/modules/model_evaluation.html#classification-metrics) module for more information."
   ]
  },
  {
   "cell_type": "code",
   "execution_count": 22,
   "id": "8335bfd7",
   "metadata": {},
   "outputs": [
    {
     "name": "stdout",
     "output_type": "stream",
     "text": [
      "accuracy train:  0.9142857142857143\n",
      "accuracy test:  0.8333333333333334\n",
      "precision:  0.8\n",
      "recall:  0.8571428571428571\n",
      "f1-score:  0.8275862068965518\n"
     ]
    }
   ],
   "source": [
    "#accuracy, precision, recall, f1-score in sklearn for the classifier:\n",
    "\n",
    "from sklearn.metrics import accuracy_score, precision_score, recall_score, f1_score\n",
    "\n",
    "#predict on train set\n",
    "y_pred_train = clf.predict(X_train)\n",
    "\n",
    "#predict on test set\n",
    "y_pred_test = clf.predict(X_test)\n",
    "\n",
    "#accuracy train\n",
    "print(\"accuracy train: \", accuracy_score(y_train, y_pred_train))\n",
    "\n",
    "#accuracy test\n",
    "print(\"accuracy test: \", accuracy_score(y_test, y_pred_test))\n",
    "\n",
    "#precision\n",
    "print(\"precision: \", precision_score(y_test, y_pred_test))\n",
    "\n",
    "#recall\n",
    "print(\"recall: \", recall_score(y_test, y_pred_test))\n",
    "\n",
    "#f1-score\n",
    "print(\"f1-score: \", f1_score(y_test, y_pred_test))\n"
   ]
  },
  {
   "cell_type": "markdown",
   "id": "27de47ca",
   "metadata": {},
   "source": [
    "## 4. Hands-On Exercise : MLP classifier for Iris dataset <a id='hands_on_exercise'></a>\n",
    "\n",
    "In this exercise, we will use the MLPClassifier to classify the Iris dataset. The Iris dataset is a classic dataset of plants with 3 classes. \n",
    "\n",
    "Load the dataset, split it into training and test sets, and train the MLPClassifier. \n",
    "\n",
    "Verify the accuracy of the model on the test set."
   ]
  },
  {
   "cell_type": "markdown",
   "id": "7b1a8301",
   "metadata": {},
   "source": [
    "## 5. Homework <a id='homework'></a>\n",
    "\n",
    "- Explore the MLPRegressor and try to fit a model to the Boston dataset.\n",
    "- Play around with the MLPClassifier for the Iris dataset. Try to improve the accuracy of the model by changing the hyperparameters.\n",
    "- Use [visualization tools](https://scikit-learn.org/stable/visualizations.html) from sklearn to visualize the decision boundary and the confusion matrix associated with the MLPClassifier."
   ]
  },
  {
   "cell_type": "markdown",
   "id": "c95f29b4",
   "metadata": {},
   "source": [
    "## 6. References <a id='references'></a>\n",
    "\n",
    "- [Probabilistic Machine Learning: An Introduction, Kevin P. Murphy](https://probml.github.io/pml-book/book1.html)\n",
    "- [Deep Learning: Foundations and concepts, Christopher M. Bishop](https://www.microsoft.com/en-us/research/people/cmbishop/#!prml-book)\n",
    "- [Scikit-learn](https://scikit-learn.org/stable/index.html)"
   ]
  },
  {
   "cell_type": "markdown",
   "id": "a0eb49b8",
   "metadata": {},
   "source": []
  }
 ],
 "metadata": {
  "kernelspec": {
   "display_name": "quantum_DS",
   "language": "python",
   "name": "python3"
  },
  "language_info": {
   "codemirror_mode": {
    "name": "ipython",
    "version": 3
   },
   "file_extension": ".py",
   "mimetype": "text/x-python",
   "name": "python",
   "nbconvert_exporter": "python",
   "pygments_lexer": "ipython3",
   "version": "3.10.4"
  }
 },
 "nbformat": 4,
 "nbformat_minor": 5
}
