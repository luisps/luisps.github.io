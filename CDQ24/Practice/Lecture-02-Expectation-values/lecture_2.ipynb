{
 "cells": [
  {
   "cell_type": "markdown",
   "metadata": {},
   "source": [
    "##### Quantum Data Science 2023/2024\n",
    "## Lecture 2 - Expectation value estimation\n",
    "*Machine Learning with quantum computers -  Section 3.1.3.2*"
   ]
  },
  {
   "cell_type": "markdown",
   "metadata": {},
   "source": [
    "<!-- no toc -->\n",
    "### Contents \n",
    "\n",
    "1. [Introduction](#intro)\n",
    "2. [Expectation values](#exp_val)\n",
    "3. [Exercise 1 - single-qubit $\\sigma_z$ expectation value](#single-qubit-z) \n",
    "4. [Exercise 2 - single-qubit $\\sigma_x$ expectation value](#single-qubit-x) \n",
    "5. [Exercise 3 - single-qubit $\\sigma_z$ expectation value in a two qubit system](#two-single-qubit-z) \n",
    "6. [Exercise 4 - $\\sigma_z$ expectation value in $n$-qubits ](#n-qubit-z) \n",
    "7. [Exercise 5 - $\\sigma_x \\otimes \\sigma_z$ expectation value](#two-qubit-xz) \n",
    "8. [Qiskit Estimator](#qiskit-estimator)\n",
    "9. [The Hamiltonian expectation](#hamiltonian)\n",
    "10. [BONUS! EXERCISE 6 - Hamiltonian](#hamiltonian_1) "
   ]
  },
  {
   "cell_type": "markdown",
   "metadata": {},
   "source": [
    "### 1. Introduction <a id=\"intro\"></a>"
   ]
  },
  {
   "cell_type": "markdown",
   "metadata": {},
   "source": [
    "Recall from last week that Qiskit has two main classes for executing quantum circuits:\n",
    "\n",
    "- Estimator - used for estimating the expectation value of a given observable.\n",
    "\n",
    "- Sampler - used to estimate the probability of basis states in a computational basis measurement.\n"
   ]
  },
  {
   "cell_type": "code",
   "execution_count": 22,
   "metadata": {},
   "outputs": [],
   "source": [
    "from qiskit import *\n",
    "from qiskit.primitives import Sampler\n",
    "import numpy as np\n",
    "\n",
    "def execute_circuit(qc, shots=1024, seed=None, binary=False , primitive=\"sampler\", observable=None):\n",
    "    \n",
    "    if primitive == \"estimator\":\n",
    "        pass\n",
    "    \n",
    "    elif primitive == \"sampler\":\n",
    "        options = {\"shots\": shots, \"seed\": seed}\n",
    "        sampler = Sampler(options=options)\n",
    "    \n",
    "        job = sampler.run(qc)\n",
    "        result = job.result()  \n",
    "        \n",
    "        probability_dictionary = result.quasi_dists[0]\n",
    "\n",
    "        if binary:\n",
    "            return probability_dictionary.binary_probabilities()\n",
    "        else:\n",
    "            return probability_dictionary"
   ]
  },
  {
   "cell_type": "markdown",
   "metadata": {},
   "source": [
    "Last week we used the sampler. Today we will focus on the estimator. But first, let's review the concept of expectation values and use the sampler to estimate them. Afterward, we will use the estimator to do it more efficient and automatically for us."
   ]
  },
  {
   "cell_type": "markdown",
   "metadata": {},
   "source": [
    "### 2. Expectation values <a id=\"expval\"></a>\n",
    "\n",
    "In classical mechanics, the expectation value of an experiment is the average value over many measurements of the system. For an experiment $\\mathcal{E}$ with a discrete set of possible outcomes $\\{E_1 , E_2, \\dots , E_N\\}$ each occurring with a certain probability $p_i$, the expectation value is given by the expression:\n",
    "\n",
    "$$ \\langle \\mathcal{E} \\rangle = \\sum_{k} p_k E_k $$\n",
    "\n",
    "where $p_k$ is the probability of the outcome $E_k$.\n",
    "\n",
    "In quantum mechanics, when we talk about expectation values, we talk about expectation values of observables $\\mathcal{M}$ , measurements, acting on a quantum state $|\\psi\\rangle$. The simplest form of measurement is the *Von-Neumann measurement* or projective measurement. The Such operators have a diagonal representation in terms of the projectors onto their eigenstates $|\\psi_k\\rangle$ with eigenvalues $\\mu_k$ that are the possible results from the measurement:\n",
    "\n",
    "$$ \\mathcal{M} = \\sum_{k} \\mu_k |\\psi_k \\rangle \\langle \\psi_k| $$\n",
    "\n",
    "As an example, for a single qubit, the computational basis observable is thus constituted by the projector operators $M_0 = |0 \\rangle \\langle 0|$ and $M_1 = |1 \\rangle \\langle 1|$ with each $\\mu_k$ corresponding to the eigenvalues $\\{-1,1\\}$:\n",
    "\n",
    "$$ \\mathcal{\\sigma_z} = \\sum_{k} \\mu_k |\\psi_k \\rangle \\langle \\psi_k| = |0 \\rangle \\langle 0| - |1 \\rangle \\langle 1|$$\n",
    "\n",
    "For a pure state $|\\psi\\rangle$ recall that the expectation value of a given observable $\\mathcal{M}$ is given by the expression: \n",
    "\n",
    "$$ \\langle \\mathcal{M} \\rangle = \\langle \\psi | \\mathcal{M} | \\psi \\rangle"
   ]
  },
  {
   "cell_type": "markdown",
   "metadata": {},
   "source": [
    "#### <span style=\"color: red;\">EXERCISE 1:</span> <a id=\"single-qubit-z\"></a>\n",
    "For an arbitrary single-qubit state $|\\psi\\rangle = cos(\\frac{\\theta}{2})|0\\rangle + sin(\\frac{\\theta}{2})|1\\rangle$ , prove that the expectation value $\\langle \\sigma_z \\rangle$ is given by: \n",
    "\n",
    "$$\\langle \\sigma_z \\rangle = \\langle \\psi|\\sigma_z| \\psi \\rangle = cos^2 \\left(\\frac{\\theta}{2}\\right) - sin^2 \\left(\\frac{\\theta}{2}\\right)$$\n",
    "\n",
    "and compute the expectation value for $\\theta = \\frac{\\pi}{2}$ from executing the quantum circuit.  "
   ]
  },
  {
   "cell_type": "code",
   "execution_count": 10,
   "metadata": {},
   "outputs": [],
   "source": [
    "def single_qubit_sigma_z_expval():\n",
    "    \n",
    "    ### YOUR CODE HERE ###\n",
    "\n",
    "\n",
    "    \n",
    "    return expval_z"
   ]
  },
  {
   "cell_type": "markdown",
   "metadata": {},
   "source": [
    "#### <span style=\"color: red;\">EXERCISE 2:</span> <a id=\"single-qubit-x\"></a>\n",
    "\n",
    "For an arbitrary single-qubit state $|\\psi\\rangle = cos(\\frac{\\theta}{2})|0\\rangle + sin(\\frac{\\theta}{2})|1\\rangle$ , prove that the expectation value $\\langle \\sigma_x \\rangle$ is given by: \n",
    "\n",
    "$$\\langle \\sigma_x \\rangle = \\langle \\psi|\\sigma_x| \\psi \\rangle = 2 cos \\left(\\frac{\\theta}{2}\\right) sin \\left(\\frac{\\theta}{2}\\right)$$\n",
    "\n",
    "and compute the expectation value for a value of $\\theta$.  "
   ]
  },
  {
   "cell_type": "code",
   "execution_count": null,
   "metadata": {},
   "outputs": [],
   "source": [
    "def single_qubit_sigma_x_expval():\n",
    "    \n",
    "    expval_x = 0\n",
    "    \n",
    "    ### YOUR CODE HERE ###\n",
    "\n",
    "    return expval_x"
   ]
  },
  {
   "cell_type": "markdown",
   "metadata": {},
   "source": [
    "#### <span style=\"color: red;\">EXERCISE 3:</span> <a id=\"two-single-qubit-z\"></a>\n",
    "\n",
    "For an arbitrary two-qubit state $|\\psi\\rangle$ , prove that the expectation value $\\langle \\sigma_z \\otimes \\sigma_z \\rangle$ is given by: \n",
    "\n",
    "$$\\langle \\sigma_z \\otimes \\sigma_z \\rangle = \\langle \\psi|\\sigma_z \\otimes \\sigma_z| \\psi \\rangle = P_{00} - P_{01} - P_{10} + P_{11}$$\n",
    "\n",
    "where $P_{ij}$ is the probability associated with basis states $|ij\\rangle$."
   ]
  },
  {
   "cell_type": "markdown",
   "metadata": {},
   "source": [
    "#### <span style=\"color: red;\">EXERCISE 4:</span> <a id=\"n-qubit-z\"></a>\n",
    "For an arbitrary $n$-qubit state $|\\psi\\rangle$ , prove that the expectation value of the operator $O = \\bigotimes_{i=0}^{n-1} \\sigma_{z_i}$ is given by: \n",
    "\n",
    "$$\\langle O \\rangle = \\langle \\psi|O| \\psi \\rangle = \\sum_{i=0}^{2^n -1} (-1)^{H(i)\\ mod\\ 2} P_i$$\n",
    "\n",
    "where $P_{i}$ and $H(i)$ are the probability and *Hamming weight*, associated to basis state $|i\\rangle$.\n",
    "\n",
    "Note: Hamming weight - # of ones in a bitstring.  \n",
    "\n",
    "Compute the expectation value $\\langle \\psi|O| \\psi \\rangle$ for the the state $|\\psi\\rangle = \\sqrt{0.7}|001\\rangle + \\sqrt{0.3}|010\\rangle$ from executing the quantum circuit.  "
   ]
  },
  {
   "cell_type": "code",
   "execution_count": null,
   "metadata": {},
   "outputs": [],
   "source": [
    "def sigma_z_expval():\n",
    "    \n",
    "    expval_z = 0\n",
    "    \n",
    "    ### YOUR CODE HERE ###\n",
    "\n",
    "    return expval_z"
   ]
  },
  {
   "cell_type": "markdown",
   "metadata": {},
   "source": [
    "#### <span style=\"color: red;\">EXERCISE 5:</span> <a id=\"two-qubit-xz\"></a>\n",
    "\n",
    "For an arbitrary two-qubit state $|\\psi\\rangle$ prove that the tensor observable $\\langle \\sigma_x \\otimes \\sigma_z \\rangle$ is given by:\n",
    "\n",
    "$$\\langle \\sigma_x \\otimes \\sigma_z \\rangle = \\langle \\psi|\\sigma_x \\otimes \\sigma_z| \\psi \\rangle = P_{00}^{\\psi'} - P_{01}^{\\psi'} - P_{10}^{\\psi'} + P_{11}^{\\psi'}$$ \n",
    "\n",
    "where $P_{ij}^{\\psi'}$ is the probability associated to state $|\\psi'\\rangle$ which is different from the initial state $|\\psi\\rangle$. What is the state $|\\psi'\\rangle$?\n",
    "\n",
    "Compute the expectation value of the tensor observable for the state $|\\psi\\rangle = \\sqrt{0.7}|01\\rangle + \\sqrt{0.3}|10\\rangle$"
   ]
  },
  {
   "cell_type": "code",
   "execution_count": null,
   "metadata": {},
   "outputs": [],
   "source": [
    "def sigma_xz_expval():\n",
    "    expval_zz = 0\n",
    "    \n",
    "    ### YOUR CODE HERE ###\n",
    "\n",
    "    return expval_zz"
   ]
  },
  {
   "cell_type": "markdown",
   "metadata": {},
   "source": [
    "#### 8. Qiskit Estimator <a id=\"qiskit-estimator\"></a>"
   ]
  },
  {
   "cell_type": "code",
   "execution_count": 15,
   "metadata": {},
   "outputs": [],
   "source": [
    "from qiskit.primitives import Estimator"
   ]
  },
  {
   "cell_type": "markdown",
   "metadata": {},
   "source": [
    "The estimator can be used to automatically estimate the expectation value of a given observable. For that, we just need to provide the observable and the quantum state."
   ]
  },
  {
   "cell_type": "code",
   "execution_count": 16,
   "metadata": {},
   "outputs": [],
   "source": [
    "from qiskit.quantum_info import SparsePauliOp\n",
    " \n",
    " #two qubit ZZ observable. Any Pauli String can be used as an observable. Coeffs are the multiplicative coefficient of the Pauli string\n",
    "observable = SparsePauliOp([\"ZZ\"], coeffs=[1])"
   ]
  },
  {
   "cell_type": "markdown",
   "metadata": {},
   "source": [
    "Provided a quantum circuit qc, then we proceed, essentially, same as before.\n",
    "\n",
    "```python   \n",
    "    job = estimator.run(qc, observable, shots=2048)\n",
    "    result = job.result()\n",
    "\n",
    "\n",
    "```\n",
    "\n",
    "or set the options \n",
    "\n",
    "```python\n",
    "    estimator.set_options(shots=2048, seed=123)\n",
    "\n",
    "```\n",
    "\n",
    "At the end, we can get the expectation value calling the entry [0] of the result, since [1] has metadata.\n",
    "\n",
    "```python\n",
    "    EstimatorResult(values=array([4.]), metadata=[{'variance': 3.552713678800501e-15, 'shots': 2048}])\n",
    "```\n",
    "\n",
    "DO NOT FORGET THAT THE ESTIMATOR MUST NOT INCLUDE ANY MEASUREMENT "
   ]
  },
  {
   "cell_type": "markdown",
   "metadata": {},
   "source": [
    "#### <span style=\"color: red;\">Exercise</span> <a id=\"hamiltonian\"></a> - Update the execute_circuit function to use the estimator instead of the sampler and repeat the previous exercises.\n"
   ]
  },
  {
   "cell_type": "code",
   "execution_count": null,
   "metadata": {},
   "outputs": [],
   "source": [
    "from qiskit import *\n",
    "from qiskit.primitives import Sampler\n",
    "import numpy as np\n",
    "\n",
    "def execute_circuit(qc, shots=1024, seed=None, binary=False , primitive=\"sampler\", observable=None):\n",
    "    \n",
    "    if primitive == \"estimator\":\n",
    "        pass\n",
    "    \n",
    "    elif primitive == \"sampler\":\n",
    "        options = {\"shots\": shots, \"seed\": seed}\n",
    "        sampler = Sampler(options=options)\n",
    "    \n",
    "        job = sampler.run(qc)\n",
    "        result = job.result()  \n",
    "        \n",
    "        probability_dictionary = result.quasi_dists[0]\n",
    "\n",
    "        if binary:\n",
    "            return probability_dictionary.binary_probabilities()\n",
    "        else:\n",
    "            return probability_dictionary"
   ]
  },
  {
   "cell_type": "code",
   "execution_count": null,
   "metadata": {},
   "outputs": [],
   "source": [
    "## \\sigma_z expectation value for a single qubit\n",
    "\n",
    "## \\sigma_x expectation value for a single qubit\n",
    "\n",
    "## \\sigma_z expectation value for two qubits\n",
    "\n",
    "## \\otimes \\sigma_z expectation value\n"
   ]
  },
  {
   "cell_type": "markdown",
   "metadata": {},
   "source": [
    "#### <span style=\"color: red;\">The Hamiltonian problem</span> <a id=\"hamiltonian\"></a>\n",
    "\n",
    "Consider we have the Hamiltonian:\n",
    "\n",
    "$$ H = \\sum_{i} c_i h_i$$ \n",
    "\n",
    "where $h_i$ is written as a tensor product of Pauli operators or the identity acting on the $n$ qubits of the quantum system. Specifically, $h_i$ is written as: \n",
    "\n",
    "$$ h_i = \\bigotimes_{j=1}^{n} P_j$$ \n",
    "\n",
    "where $P_j \\in \\{I, \\sigma_x, \\sigma_y, \\sigma_z\\}$. $c_i$ is simply a constant value."
   ]
  },
  {
   "cell_type": "markdown",
   "metadata": {},
   "source": [
    "#### <span style=\"color: red;\">BONUS! EXERCISE 6:</span> <a id=\"two-qubit-xz\"></a> The Hamiltonian expectation: \n",
    "\n",
    "For an arbitrary Hamiltonian $H$ acting on arbitrary state $|\\psi\\rangle$, prove that its expectation value $\\langle H \\rangle$ is given by: \n",
    "\n",
    "$$ \\langle H \\rangle = \\sum_{i} c_i \\langle \\psi | h_i | \\psi \\rangle$$\n",
    "\n",
    "Compute the expectation value of the Hamiltonian $H = 2\\sigma_z \\sigma_z \\sigma_z + 2\\sigma_x \\sigma_x \\sigma_x$ acting on state $|\\psi\\rangle = \\sqrt{0.3}|001\\rangle + \\sqrt{0.7}|010\\rangle$\n"
   ]
  },
  {
   "cell_type": "code",
   "execution_count": null,
   "metadata": {},
   "outputs": [],
   "source": [
    "# function receive as input the quantum circuit (qc) and the Hamiltonian (H)\n",
    "# create the Hamiltonian H as a list with constant and a binary string of pauli operators e.g. H = [(c_1,\"xxx\") , (c_2,\"xyz\"), ...]\n",
    "def hamiltonian_1_expval(qc, H): \n",
    "    expval = 0\n",
    "\n",
    "    ### YOUR CODE HERE ###\n",
    "\n",
    "    return expval    "
   ]
  },
  {
   "cell_type": "code",
   "execution_count": null,
   "metadata": {},
   "outputs": [],
   "source": [
    "n_qubits = \n",
    "\n",
    "qc = QuantumCircuit()\n",
    "\n",
    "H = []\n",
    "\n",
    "h_expval = hamiltonian_1_expval(qc,H)\n",
    "\n",
    "print(\"The Hamiltonian expctation is {}\".format(h_expval))"
   ]
  }
 ],
 "metadata": {
  "interpreter": {
   "hash": "62314c999a2395b70c6666201aadb026cfae52075e045b8f587202e06e575832"
  },
  "kernelspec": {
   "display_name": "Python 3.10.1 64-bit ('quantum_DS': conda)",
   "language": "python",
   "name": "python3"
  },
  "language_info": {
   "codemirror_mode": {
    "name": "ipython",
    "version": 3
   },
   "file_extension": ".py",
   "mimetype": "text/x-python",
   "name": "python",
   "nbconvert_exporter": "python",
   "pygments_lexer": "ipython3",
   "version": "3.10.4"
  },
  "orig_nbformat": 4
 },
 "nbformat": 4,
 "nbformat_minor": 2
}
